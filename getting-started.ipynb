{
  "cells": [
    {
      "cell_type": "markdown",
      "metadata": {},
      "source": [
        "# Getting started\n",
        "\n",
        "## Installation\n",
        "\n",
        "1.  Install the tidepredictor package from the distributed wheel file.\n",
        "\n",
        "``` bash\n",
        "pip install tidepredictor-*.whl\n",
        "```\n",
        "\n",
        "1.  Copy constituent files (`.nc` files) to the\n",
        "    `~/.local/share/tidepredictor` directory.\n",
        "\n",
        "## Usage\n",
        "\n",
        "`tidepredictor` can be used either as a command line tool or as a Python\n",
        "library.\n",
        "\n",
        "### Python library"
      ],
      "id": "ad5db865-dec8-4acc-b407-33f7e08e3782"
    },
    {
      "cell_type": "code",
      "execution_count": 1,
      "metadata": {},
      "outputs": [
        {
          "output_type": "display_data",
          "metadata": {},
          "data": {
            "text/html": [
              "</div>"
            ]
          }
        }
      ],
      "source": [
        "import tidepredictor as tp\n",
        "from datetime import datetime, timedelta\n",
        "\n",
        "path = tp.get_default_constituent_path(tp.PredictionType.level)\n",
        "\n",
        "repo = tp.NetCDFConstituentRepository(path)\n",
        "\n",
        "predictor = tp.LevelPredictor(repo)\n",
        "\n",
        "df = predictor.predict(\n",
        "    lon=0.0,\n",
        "    lat=0.0,\n",
        "    start=datetime(2021, 1, 1),\n",
        "    end=datetime(2021, 1, 1, 12),\n",
        "    interval=timedelta(hours=1),\n",
        ")\n",
        "df"
      ],
      "id": "cdfda625"
    },
    {
      "cell_type": "markdown",
      "metadata": {},
      "source": [
        "And similar for depth averaged currents."
      ],
      "id": "84b10721-48e0-43e9-8a52-067c06ea40c2"
    },
    {
      "cell_type": "code",
      "execution_count": 2,
      "metadata": {},
      "outputs": [
        {
          "output_type": "display_data",
          "metadata": {},
          "data": {
            "text/html": [
              "</div>"
            ]
          }
        }
      ],
      "source": [
        "path = tp.get_default_constituent_path(tp.PredictionType.current)\n",
        "\n",
        "repo = tp.NetCDFConstituentRepository(path)\n",
        "\n",
        "predictor = tp.CurrentPredictor(repo)\n",
        "\n",
        "df = predictor.predict_depth_averaged(\n",
        "    lon=0.0,\n",
        "    lat=0.0,\n",
        "    start=datetime(2021, 1, 1),\n",
        "    end=datetime(2021, 1, 1, 12),\n",
        "    interval=timedelta(hours=1)\n",
        ")\n",
        "df"
      ],
      "id": "65e990c9"
    },
    {
      "cell_type": "markdown",
      "metadata": {},
      "source": [
        "And current profiles."
      ],
      "id": "83cb533c-636b-4cac-8e16-d152bcf780a0"
    },
    {
      "cell_type": "code",
      "execution_count": 3,
      "metadata": {},
      "outputs": [
        {
          "output_type": "display_data",
          "metadata": {},
          "data": {
            "text/html": [
              "</div>"
            ]
          }
        }
      ],
      "source": [
        "path = tp.get_default_constituent_path(tp.PredictionType.current)\n",
        "\n",
        "repo = tp.NetCDFConstituentRepository(path)\n",
        "\n",
        "predictor = tp.CurrentPredictor(repo)\n",
        "\n",
        "df = predictor.predict_profile(\n",
        "    lon=0.0,\n",
        "    lat=0.0,\n",
        "    start=datetime(2021, 1, 1),\n",
        "    end=datetime(2021, 1, 1, 12),\n",
        "    interval=timedelta(hours=1),\n",
        "    levels=[-1.0, -5.0]\n",
        ")\n",
        "df"
      ],
      "id": "254f80cd"
    },
    {
      "cell_type": "markdown",
      "metadata": {},
      "source": [
        "### Command line"
      ],
      "id": "5cae17cf-b888-4158-b292-415bae20c3f3"
    },
    {
      "cell_type": "code",
      "execution_count": 4,
      "metadata": {},
      "outputs": [
        {
          "output_type": "stream",
          "name": "stdout",
          "text": [
            "time,level\n",
            "2021-01-01T00:00:00Z,-0.312\n",
            "2021-01-01T00:30:00Z,-0.219\n",
            "2021-01-01T01:00:00Z,-0.106\n",
            "2021-01-01T01:30:00Z,0.019\n",
            "2021-01-01T02:00:00Z,0.148\n"
          ]
        }
      ],
      "source": [
        "!tidepredictor -x 0.0 -y 0.0 -s \"2021-01-01\" -e \"2021-01-01 02:00:00\" -i 30"
      ],
      "id": "3915eedf"
    },
    {
      "cell_type": "markdown",
      "metadata": {},
      "source": [
        "All options are available as command line arguments."
      ],
      "id": "8c4946f8-a6c0-4ed7-a26a-4a35b22679e5"
    },
    {
      "cell_type": "code",
      "execution_count": 5,
      "metadata": {},
      "outputs": [
        {
          "output_type": "stream",
          "name": "stdout",
          "text": [
            "                                                                                \n",
            " Usage: tidepredictor [OPTIONS]                                                 \n",
            "                                                                                \n",
            " Predict the tides for a given location.                                        \n",
            "                                                                                \n",
            "╭─ Options ────────────────────────────────────────────────────────────────────╮\n",
            "│ *  --lon                 -x      FLOAT RANGE           Longitude             │\n",
            "│                                  [-180<=x<=180]        [default: None]       │\n",
            "│                                                        [required]            │\n",
            "│ *  --lat                 -y      FLOAT RANGE           Latitude              │\n",
            "│                                  [-90<=x<=90]          [default: None]       │\n",
            "│                                                        [required]            │\n",
            "│    --start               -s      [%Y-%m-%d|%Y-%m-%dT%  Start date            │\n",
            "│                                  H:%M:%S|%Y-%m-%d      [default: None]       │\n",
            "│                                  %H:%M:%S]                                   │\n",
            "│    --end                 -e      [%Y-%m-%d|%Y-%m-%dT%  End date              │\n",
            "│                                  H:%M:%S|%Y-%m-%d      [default: None]       │\n",
            "│                                  %H:%M:%S]                                   │\n",
            "│    --interval            -i      INTEGER RANGE [x>=1]  Interval in minutes   │\n",
            "│                                                        [default: 30]         │\n",
            "│    --output              -o      PATH                  Output file, default  │\n",
            "│                                                        is stdout             │\n",
            "│                                                        [default: None]       │\n",
            "│    --format                      [csv|json]            Output format         │\n",
            "│                                                        [default: csv]        │\n",
            "│    --type                        [level|current]       Type of prediction,   │\n",
            "│                                                        level or u,v          │\n",
            "│                                                        [default: level]      │\n",
            "│    --precision           -p      INTEGER RANGE [x>=0]  Number of decimal     │\n",
            "│                                                        places. (csv only)    │\n",
            "│                                                        [default: 3]          │\n",
            "│    --alpha                       FLOAT                 Alpha factor for      │\n",
            "│                                                        current profile       │\n",
            "│                                                        [default:             │\n",
            "│                                                        0.14285714285714285]  │\n",
            "│    --install-completion                                Install completion    │\n",
            "│                                                        for the current       │\n",
            "│                                                        shell.                │\n",
            "│    --show-completion                                   Show completion for   │\n",
            "│                                                        the current shell, to │\n",
            "│                                                        copy it or customize  │\n",
            "│                                                        the installation.     │\n",
            "│    --help                                              Show this message and │\n",
            "│                                                        exit.                 │\n",
            "╰──────────────────────────────────────────────────────────────────────────────╯\n"
          ]
        }
      ],
      "source": [
        "!tidepredictor --help"
      ],
      "id": "2a870788"
    }
  ],
  "nbformat": 4,
  "nbformat_minor": 5,
  "metadata": {
    "kernelspec": {
      "name": "python3",
      "display_name": "Python 3 (ipykernel)",
      "language": "python",
      "path": "/home/runner/work/tidepredictor/tidepredictor/.venv/share/jupyter/kernels/python3"
    },
    "language_info": {
      "name": "python",
      "codemirror_mode": {
        "name": "ipython",
        "version": "3"
      },
      "file_extension": ".py",
      "mimetype": "text/x-python",
      "nbconvert_exporter": "python",
      "pygments_lexer": "ipython3",
      "version": "3.11.11"
    }
  }
}