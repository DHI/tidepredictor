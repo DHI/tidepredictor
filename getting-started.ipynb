{
  "cells": [
    {
      "cell_type": "markdown",
      "metadata": {},
      "source": [
        "# Getting started\n",
        "\n",
        "## Installation\n",
        "\n",
        "1.  Install the tidepredictor package from the distributed wheel file.\n",
        "\n",
        "``` bash\n",
        "pip install tidepredictor-*.whl\n",
        "```\n",
        "\n",
        "1.  Copy constituent files (`.nc` files) to the\n",
        "    `~/.local/share/tidepredictor` directory.\n",
        "\n",
        "## Usage\n",
        "\n",
        "`tidepredictor` can be used either as a command line tool or as a Python\n",
        "library.\n",
        "\n",
        "### Python library"
      ],
      "id": "c29acd86-f3f0-4d22-9ae7-2b502adffc53"
    },
    {
      "cell_type": "code",
      "execution_count": 1,
      "metadata": {},
      "outputs": [
        {
          "output_type": "display_data",
          "metadata": {},
          "data": {
            "text/html": [
              "</div>"
            ]
          }
        }
      ],
      "source": [
        "import tidepredictor as tp\n",
        "from datetime import datetime, timedelta\n",
        "\n",
        "path = tp.get_default_constituent_path(tp.PredictionType.level)\n",
        "\n",
        "repo = tp.NetCDFConstituentRepository(path)\n",
        "\n",
        "predictor = tp.LevelPredictor(repo)\n",
        "\n",
        "df = predictor.predict(\n",
        "    lon=-2.75,\n",
        "    lat=56.1,\n",
        "    start=datetime(2021, 1, 1),\n",
        "    end=datetime(2021, 1, 1, 12),\n",
        "    interval=timedelta(hours=1),\n",
        ")\n",
        "df"
      ],
      "id": "058f08ab"
    },
    {
      "cell_type": "markdown",
      "metadata": {},
      "source": [
        "And similar for depth averaged currents."
      ],
      "id": "460dd2e4-4dfc-4956-bf4d-3d9b9be14de9"
    },
    {
      "cell_type": "code",
      "execution_count": 2,
      "metadata": {},
      "outputs": [
        {
          "output_type": "display_data",
          "metadata": {},
          "data": {
            "text/html": [
              "</div>"
            ]
          }
        }
      ],
      "source": [
        "path = tp.get_default_constituent_path(tp.PredictionType.current)\n",
        "\n",
        "repo = tp.NetCDFConstituentRepository(path)\n",
        "\n",
        "predictor = tp.CurrentPredictor(repo)\n",
        "\n",
        "df = predictor.predict_depth_averaged(\n",
        "    lon=-2.75,\n",
        "    lat=56.1,\n",
        "    start=datetime(2021, 1, 1),\n",
        "    end=datetime(2021, 1, 1, 12),\n",
        "    interval=timedelta(hours=1)\n",
        ")\n",
        "df"
      ],
      "id": "faf05b26"
    },
    {
      "cell_type": "markdown",
      "metadata": {},
      "source": [
        "And current profiles."
      ],
      "id": "31dac10d-981b-473e-b217-7f55725028f4"
    },
    {
      "cell_type": "code",
      "execution_count": 3,
      "metadata": {},
      "outputs": [
        {
          "output_type": "display_data",
          "metadata": {},
          "data": {
            "text/html": [
              "</div>"
            ]
          }
        }
      ],
      "source": [
        "path = tp.get_default_constituent_path(tp.PredictionType.current)\n",
        "\n",
        "repo = tp.NetCDFConstituentRepository(path)\n",
        "\n",
        "predictor = tp.CurrentPredictor(repo)\n",
        "\n",
        "df = predictor.predict_profile(\n",
        "    lon=-2.75,\n",
        "    lat=56.1,\n",
        "    start=datetime(2021, 1, 1),\n",
        "    end=datetime(2021, 1, 2, 1),\n",
        "    interval=timedelta(hours=1),\n",
        "    levels=[-1.0, -5.0, -15.0]\n",
        ")\n",
        "df"
      ],
      "id": "51892790"
    },
    {
      "cell_type": "markdown",
      "metadata": {},
      "source": [
        "### Command line"
      ],
      "id": "571334ea-1e40-402e-9458-193b6f8de181"
    },
    {
      "cell_type": "code",
      "execution_count": 4,
      "metadata": {},
      "outputs": [
        {
          "output_type": "stream",
          "name": "stdout",
          "text": [
            "time,level\n",
            "2021-01-01T00:00:00Z,-0.442\n",
            "2021-01-01T00:30:00Z,0.035\n",
            "2021-01-01T01:00:00Z,0.498\n",
            "2021-01-01T01:30:00Z,0.919\n",
            "2021-01-01T02:00:00Z,1.277\n"
          ]
        }
      ],
      "source": [
        "!tidepredictor -x -2.75 -y 56.1 -s \"2021-01-01\" -e \"2021-01-01 02:00:00\" -i 30"
      ],
      "id": "9fb10802"
    },
    {
      "cell_type": "markdown",
      "metadata": {},
      "source": [
        "All options are available as command line arguments."
      ],
      "id": "feb4710f-2492-4db8-ab12-64bc725c562e"
    },
    {
      "cell_type": "code",
      "execution_count": 5,
      "metadata": {},
      "outputs": [
        {
          "output_type": "stream",
          "name": "stdout",
          "text": [
            "                                                                                \n",
            " Usage: tidepredictor [OPTIONS]                                                 \n",
            "                                                                                \n",
            " Predict the tides for a given location.                                        \n",
            "                                                                                \n",
            "╭─ Options ────────────────────────────────────────────────────────────────────╮\n",
            "│ *  --lon                 -x      FLOAT RANGE           Longitude             │\n",
            "│                                  [-180<=x<=180]        [default: None]       │\n",
            "│                                                        [required]            │\n",
            "│ *  --lat                 -y      FLOAT RANGE           Latitude              │\n",
            "│                                  [-90<=x<=90]          [default: None]       │\n",
            "│                                                        [required]            │\n",
            "│    --start               -s      [%Y-%m-%d|%Y-%m-%dT%  Start date            │\n",
            "│                                  H:%M:%S|%Y-%m-%d      [default: None]       │\n",
            "│                                  %H:%M:%S]                                   │\n",
            "│    --end                 -e      [%Y-%m-%d|%Y-%m-%dT%  End date              │\n",
            "│                                  H:%M:%S|%Y-%m-%d      [default: None]       │\n",
            "│                                  %H:%M:%S]                                   │\n",
            "│    --interval            -i      INTEGER RANGE [x>=1]  Interval in minutes   │\n",
            "│                                                        [default: 30]         │\n",
            "│    --output              -o      PATH                  Output file, default  │\n",
            "│                                                        is stdout             │\n",
            "│                                                        [default: None]       │\n",
            "│    --format                      [csv|json]            Output format         │\n",
            "│                                                        [default: csv]        │\n",
            "│    --type                        [level|current]       Type of prediction,   │\n",
            "│                                                        level or u,v          │\n",
            "│                                                        [default: level]      │\n",
            "│    --precision           -p      INTEGER RANGE [x>=0]  Number of decimal     │\n",
            "│                                                        places. (csv only)    │\n",
            "│                                                        [default: 3]          │\n",
            "│    --alpha                       FLOAT                 Alpha factor for      │\n",
            "│                                                        current profile       │\n",
            "│                                                        [default:             │\n",
            "│                                                        0.14285714285714285]  │\n",
            "│    --install-completion                                Install completion    │\n",
            "│                                                        for the current       │\n",
            "│                                                        shell.                │\n",
            "│    --show-completion                                   Show completion for   │\n",
            "│                                                        the current shell, to │\n",
            "│                                                        copy it or customize  │\n",
            "│                                                        the installation.     │\n",
            "│    --help                                              Show this message and │\n",
            "│                                                        exit.                 │\n",
            "╰──────────────────────────────────────────────────────────────────────────────╯\n"
          ]
        }
      ],
      "source": [
        "!tidepredictor --help"
      ],
      "id": "78d9be3a"
    }
  ],
  "nbformat": 4,
  "nbformat_minor": 5,
  "metadata": {
    "kernelspec": {
      "name": "python3",
      "display_name": "Python 3 (ipykernel)",
      "language": "python",
      "path": "/home/runner/work/tidepredictor/tidepredictor/.venv/share/jupyter/kernels/python3"
    },
    "language_info": {
      "name": "python",
      "codemirror_mode": {
        "name": "ipython",
        "version": "3"
      },
      "file_extension": ".py",
      "mimetype": "text/x-python",
      "nbconvert_exporter": "python",
      "pygments_lexer": "ipython3",
      "version": "3.11.11"
    }
  }
}