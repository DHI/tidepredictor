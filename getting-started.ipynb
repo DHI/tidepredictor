{
  "cells": [
    {
      "cell_type": "markdown",
      "metadata": {},
      "source": [
        "# Getting started\n",
        "\n",
        "## Installation\n",
        "\n",
        "1.  Install the tidepredictor package from the distributed wheel file.\n",
        "\n",
        "``` bash\n",
        "pip install tidepredictor-*.whl\n",
        "```\n",
        "\n",
        "1.  Copy constituent files (`.nc` files) to the\n",
        "    `~/.local/share/tidepredictor` directory.\n",
        "\n",
        "## Usage\n",
        "\n",
        "`tidepredictor` can be used either as a command line tool or as a Python\n",
        "library.\n",
        "\n",
        "### Python library"
      ],
      "id": "c073b8c6-cb14-4080-9b6c-25ac174a25b0"
    },
    {
      "cell_type": "code",
      "execution_count": 1,
      "metadata": {},
      "outputs": [
        {
          "output_type": "display_data",
          "metadata": {},
          "data": {
            "text/html": [
              "</div>"
            ]
          }
        }
      ],
      "source": [
        "import tidepredictor as tp\n",
        "from datetime import datetime, timedelta\n",
        "\n",
        "path = tp.get_default_constituent_path(tp.PredictionType.level)\n",
        "\n",
        "repo = tp.NetCDFConstituentRepository(path)\n",
        "\n",
        "predictor = tp.LevelPredictor(repo)\n",
        "\n",
        "df = predictor.predict(\n",
        "    lon=-2.75,\n",
        "    lat=56.1,\n",
        "    start=datetime(2021, 1, 1),\n",
        "    end=datetime(2021, 1, 1, 12),\n",
        "    interval=timedelta(hours=1),\n",
        ")\n",
        "df"
      ],
      "id": "09354e2f"
    },
    {
      "cell_type": "markdown",
      "metadata": {},
      "source": [
        "And similar for depth averaged currents."
      ],
      "id": "a05ac619-c487-4567-8e6e-a0f000916b88"
    },
    {
      "cell_type": "code",
      "execution_count": 2,
      "metadata": {},
      "outputs": [
        {
          "output_type": "display_data",
          "metadata": {},
          "data": {
            "text/html": [
              "</div>"
            ]
          }
        }
      ],
      "source": [
        "path = tp.get_default_constituent_path(tp.PredictionType.current)\n",
        "\n",
        "repo = tp.NetCDFConstituentRepository(path)\n",
        "\n",
        "predictor = tp.CurrentPredictor(repo)\n",
        "\n",
        "df = predictor.predict_depth_averaged(\n",
        "    lon=-2.75,\n",
        "    lat=56.1,\n",
        "    start=datetime(2021, 1, 1),\n",
        "    end=datetime(2021, 1, 1, 12),\n",
        "    interval=timedelta(hours=1)\n",
        ")\n",
        "df"
      ],
      "id": "963b35b6"
    },
    {
      "cell_type": "markdown",
      "metadata": {},
      "source": [
        "And current profiles."
      ],
      "id": "9f5389a6-7785-4893-94a4-1b1a910bc267"
    },
    {
      "cell_type": "code",
      "execution_count": 3,
      "metadata": {},
      "outputs": [
        {
          "output_type": "display_data",
          "metadata": {},
          "data": {
            "text/html": [
              "</div>"
            ]
          }
        }
      ],
      "source": [
        "path = tp.get_default_constituent_path(tp.PredictionType.current)\n",
        "\n",
        "repo = tp.NetCDFConstituentRepository(path)\n",
        "\n",
        "predictor = tp.CurrentPredictor(repo)\n",
        "\n",
        "df = predictor.predict_profile(\n",
        "    lon=-2.75,\n",
        "    lat=56.1,\n",
        "    start=datetime(2021, 1, 1),\n",
        "    end=datetime(2021, 1, 2, 1),\n",
        "    interval=timedelta(hours=1),\n",
        "    levels=[-1.0, -5.0, -15.0]\n",
        ")\n",
        "df"
      ],
      "id": "f86efd30"
    },
    {
      "cell_type": "markdown",
      "metadata": {},
      "source": [
        "Line chart."
      ],
      "id": "052084dc-3408-4551-b737-d83d829e021e"
    },
    {
      "cell_type": "code",
      "execution_count": 4,
      "metadata": {},
      "outputs": [
        {
          "output_type": "display_data",
          "metadata": {},
          "data": {
            "text/html": [
              "        <script type=\"text/javascript\">\n",
              "        window.PlotlyConfig = {MathJaxConfig: 'local'};\n",
              "        if (window.MathJax && window.MathJax.Hub && window.MathJax.Hub.Config) {window.MathJax.Hub.Config({SVG: {font: \"STIX-Web\"}});}\n",
              "        </script>\n",
              "        <script type=\"module\">import \"https://cdn.plot.ly/plotly-3.0.0.min\"</script>\n",
              "        "
            ]
          }
        },
        {
          "output_type": "display_data",
          "metadata": {},
          "data": {
            "text/html": [
              "<div>            <script src=\"https://cdnjs.cloudflare.com/ajax/libs/mathjax/2.7.5/MathJax.js?config=TeX-AMS-MML_SVG\"></script><script type=\"text/javascript\">if (window.MathJax && window.MathJax.Hub && window.MathJax.Hub.Config) {window.MathJax.Hub.Config({SVG: {font: \"STIX-Web\"}});}</script>                <script type=\"text/javascript\">window.PlotlyConfig = {MathJaxConfig: 'local'};</script>\n",
              "        <script charset=\"utf-8\" src=\"https://cdn.plot.ly/plotly-3.0.0.min.js\"></script>                <div id=\"a086fca8-1a3a-4370-9302-bbf478795bc3\" class=\"plotly-graph-div\" style=\"height:525px; width:100%;\"></div>            <script type=\"text/javascript\">                window.PLOTLYENV=window.PLOTLYENV || {};                                if (document.getElementById(\"a086fca8-1a3a-4370-9302-bbf478795bc3\")) {                    Plotly.newPlot(                        \"a086fca8-1a3a-4370-9302-bbf478795bc3\",                        [{\"hovertemplate\":\"depth=-1.0\\u003cbr\\u003etime=%{x}\\u003cbr\\u003eu=%{y}\\u003cextra\\u003e\\u003c\\u002fextra\\u003e\",\"legendgroup\":\"-1.0\",\"line\":{\"color\":\"#636efa\",\"dash\":\"solid\"},\"marker\":{\"symbol\":\"circle\"},\"mode\":\"lines\",\"name\":\"-1.0\",\"orientation\":\"v\",\"showlegend\":true,\"x\":[\"2021-01-01T00:00:00.000000000\",\"2021-01-01T01:00:00.000000000\",\"2021-01-01T02:00:00.000000000\",\"2021-01-01T03:00:00.000000000\",\"2021-01-01T04:00:00.000000000\",\"2021-01-01T05:00:00.000000000\",\"2021-01-01T06:00:00.000000000\",\"2021-01-01T07:00:00.000000000\",\"2021-01-01T08:00:00.000000000\",\"2021-01-01T09:00:00.000000000\",\"2021-01-01T10:00:00.000000000\",\"2021-01-01T11:00:00.000000000\",\"2021-01-01T12:00:00.000000000\",\"2021-01-01T13:00:00.000000000\",\"2021-01-01T14:00:00.000000000\",\"2021-01-01T15:00:00.000000000\",\"2021-01-01T16:00:00.000000000\",\"2021-01-01T17:00:00.000000000\",\"2021-01-01T18:00:00.000000000\",\"2021-01-01T19:00:00.000000000\",\"2021-01-01T20:00:00.000000000\",\"2021-01-01T21:00:00.000000000\",\"2021-01-01T22:00:00.000000000\",\"2021-01-01T23:00:00.000000000\",\"2021-01-02T00:00:00.000000000\",\"2021-01-02T01:00:00.000000000\"],\"xaxis\":\"x\",\"y\":{\"dtype\":\"f8\",\"bdata\":\"EbtAD4pU1r+vSO4Jd2jTv887a5H6Kcm\\u002f1Yf2ybpVqb8Rt3D2XPW8P5\\u002fg+M0ectA\\u002fbrOYlk3V1T+q6ytMOFPVP8b\\u002fI7fqP80\\u002fB6KlzSzwrT\\u002fD3r73awG\\u002fv3hpE3MWVdC\\u002fnXbN0Obu079siWmYzlDSv2KwaS7j68i\\u002fPn7K\\u002fwgerr8POy0KY+y4Pwn+8B5IK88\\u002f++y2627Z1T8BScL+BrXWP7zfZTTNLNE\\u002fFIrLFTsCuj99YgsapEq4v74eyM1XtdC\\u002fhMS4f0Sa1r\\u002fQUihS+9jWvw==\"},\"yaxis\":\"y\",\"type\":\"scatter\"},{\"hovertemplate\":\"depth=-5.0\\u003cbr\\u003etime=%{x}\\u003cbr\\u003eu=%{y}\\u003cextra\\u003e\\u003c\\u002fextra\\u003e\",\"legendgroup\":\"-5.0\",\"line\":{\"color\":\"#EF553B\",\"dash\":\"solid\"},\"marker\":{\"symbol\":\"circle\"},\"mode\":\"lines\",\"name\":\"-5.0\",\"orientation\":\"v\",\"showlegend\":true,\"x\":[\"2021-01-01T00:00:00.000000000\",\"2021-01-01T01:00:00.000000000\",\"2021-01-01T02:00:00.000000000\",\"2021-01-01T03:00:00.000000000\",\"2021-01-01T04:00:00.000000000\",\"2021-01-01T05:00:00.000000000\",\"2021-01-01T06:00:00.000000000\",\"2021-01-01T07:00:00.000000000\",\"2021-01-01T08:00:00.000000000\",\"2021-01-01T09:00:00.000000000\",\"2021-01-01T10:00:00.000000000\",\"2021-01-01T11:00:00.000000000\",\"2021-01-01T12:00:00.000000000\",\"2021-01-01T13:00:00.000000000\",\"2021-01-01T14:00:00.000000000\",\"2021-01-01T15:00:00.000000000\",\"2021-01-01T16:00:00.000000000\",\"2021-01-01T17:00:00.000000000\",\"2021-01-01T18:00:00.000000000\",\"2021-01-01T19:00:00.000000000\",\"2021-01-01T20:00:00.000000000\",\"2021-01-01T21:00:00.000000000\",\"2021-01-01T22:00:00.000000000\",\"2021-01-01T23:00:00.000000000\",\"2021-01-02T00:00:00.000000000\",\"2021-01-02T01:00:00.000000000\"],\"xaxis\":\"x\",\"y\":{\"dtype\":\"f8\",\"bdata\":\"EGjStpvc1b+Kd\\u002fBxOgDTv6W8qwnUosi\\u002f8I8nSKnNqL+P2ihU1Vm8P3gmYR\\u002fLGdA\\u002f8xIlmgpg1T\\u002fAcAn2r+DUP4rSPqvSosw\\u002fOEljHGJPrT8C\\u002fE655Vq+v7LNPGS9+s+\\u002fchTSMNiD07+tN5H8b+7RvyhxfCEKZsi\\u002fSrdgAEh8rb81eoxOh2a4P352RQ7hg84\\u002fK7WMwBVk1T\\u002fUhrtuEjvWP1SdfeWO0NA\\u002fDcU0HIt2uT\\u002foW3sSLci3v0JMOhWbW9C\\u002fQL1JqN8g1r8i2ZunRV7Wvw==\"},\"yaxis\":\"y\",\"type\":\"scatter\"},{\"hovertemplate\":\"depth=-15.0\\u003cbr\\u003etime=%{x}\\u003cbr\\u003eu=%{y}\\u003cextra\\u003e\\u003c\\u002fextra\\u003e\",\"legendgroup\":\"-15.0\",\"line\":{\"color\":\"#00cc96\",\"dash\":\"solid\"},\"marker\":{\"symbol\":\"circle\"},\"mode\":\"lines\",\"name\":\"-15.0\",\"orientation\":\"v\",\"showlegend\":true,\"x\":[\"2021-01-01T00:00:00.000000000\",\"2021-01-01T01:00:00.000000000\",\"2021-01-01T02:00:00.000000000\",\"2021-01-01T03:00:00.000000000\",\"2021-01-01T04:00:00.000000000\",\"2021-01-01T05:00:00.000000000\",\"2021-01-01T06:00:00.000000000\",\"2021-01-01T07:00:00.000000000\",\"2021-01-01T08:00:00.000000000\",\"2021-01-01T09:00:00.000000000\",\"2021-01-01T10:00:00.000000000\",\"2021-01-01T11:00:00.000000000\",\"2021-01-01T12:00:00.000000000\",\"2021-01-01T13:00:00.000000000\",\"2021-01-01T14:00:00.000000000\",\"2021-01-01T15:00:00.000000000\",\"2021-01-01T16:00:00.000000000\",\"2021-01-01T17:00:00.000000000\",\"2021-01-01T18:00:00.000000000\",\"2021-01-01T19:00:00.000000000\",\"2021-01-01T20:00:00.000000000\",\"2021-01-01T21:00:00.000000000\",\"2021-01-01T22:00:00.000000000\",\"2021-01-01T23:00:00.000000000\",\"2021-01-02T00:00:00.000000000\",\"2021-01-02T01:00:00.000000000\"],\"xaxis\":\"x\",\"y\":{\"dtype\":\"f8\",\"bdata\":\"gTLlxL1S1L\\u002fZF0g\\u002f56nRv60cu5X65sa\\u002fRf2II8wOp7\\u002fssI9SDlu6P8zam6Vv780\\u002ftd254vDe0z9V8z+wjGjTPzsXt6nonso\\u002fPRulNlM\\u002fqz+uGgs5Azi8vyPkEfeWus2\\u002frYDowkEk0r9N7sZ5YavQvwZU5dx3rsa\\u002fmA+5NRBpq7+BNcE67K62P\\u002fuZczccXsw\\u002fAo2ZL7Pi0z9P3K6ajqrUP\\u002fIagrg9Q88\\u002f7ba6V8urtz9I1Afqthu2v1s43S7Mac6\\u002fDg490zOS1L9VgAunR8vUvw==\"},\"yaxis\":\"y\",\"type\":\"scatter\"}],                        {\"template\":{\"data\":{\"histogram2dcontour\":[{\"type\":\"histogram2dcontour\",\"colorbar\":{\"outlinewidth\":0,\"ticks\":\"\"},\"colorscale\":[[0.0,\"#0d0887\"],[0.1111111111111111,\"#46039f\"],[0.2222222222222222,\"#7201a8\"],[0.3333333333333333,\"#9c179e\"],[0.4444444444444444,\"#bd3786\"],[0.5555555555555556,\"#d8576b\"],[0.6666666666666666,\"#ed7953\"],[0.7777777777777778,\"#fb9f3a\"],[0.8888888888888888,\"#fdca26\"],[1.0,\"#f0f921\"]]}],\"choropleth\":[{\"type\":\"choropleth\",\"colorbar\":{\"outlinewidth\":0,\"ticks\":\"\"}}],\"histogram2d\":[{\"type\":\"histogram2d\",\"colorbar\":{\"outlinewidth\":0,\"ticks\":\"\"},\"colorscale\":[[0.0,\"#0d0887\"],[0.1111111111111111,\"#46039f\"],[0.2222222222222222,\"#7201a8\"],[0.3333333333333333,\"#9c179e\"],[0.4444444444444444,\"#bd3786\"],[0.5555555555555556,\"#d8576b\"],[0.6666666666666666,\"#ed7953\"],[0.7777777777777778,\"#fb9f3a\"],[0.8888888888888888,\"#fdca26\"],[1.0,\"#f0f921\"]]}],\"heatmap\":[{\"type\":\"heatmap\",\"colorbar\":{\"outlinewidth\":0,\"ticks\":\"\"},\"colorscale\":[[0.0,\"#0d0887\"],[0.1111111111111111,\"#46039f\"],[0.2222222222222222,\"#7201a8\"],[0.3333333333333333,\"#9c179e\"],[0.4444444444444444,\"#bd3786\"],[0.5555555555555556,\"#d8576b\"],[0.6666666666666666,\"#ed7953\"],[0.7777777777777778,\"#fb9f3a\"],[0.8888888888888888,\"#fdca26\"],[1.0,\"#f0f921\"]]}],\"contourcarpet\":[{\"type\":\"contourcarpet\",\"colorbar\":{\"outlinewidth\":0,\"ticks\":\"\"}}],\"contour\":[{\"type\":\"contour\",\"colorbar\":{\"outlinewidth\":0,\"ticks\":\"\"},\"colorscale\":[[0.0,\"#0d0887\"],[0.1111111111111111,\"#46039f\"],[0.2222222222222222,\"#7201a8\"],[0.3333333333333333,\"#9c179e\"],[0.4444444444444444,\"#bd3786\"],[0.5555555555555556,\"#d8576b\"],[0.6666666666666666,\"#ed7953\"],[0.7777777777777778,\"#fb9f3a\"],[0.8888888888888888,\"#fdca26\"],[1.0,\"#f0f921\"]]}],\"surface\":[{\"type\":\"surface\",\"colorbar\":{\"outlinewidth\":0,\"ticks\":\"\"},\"colorscale\":[[0.0,\"#0d0887\"],[0.1111111111111111,\"#46039f\"],[0.2222222222222222,\"#7201a8\"],[0.3333333333333333,\"#9c179e\"],[0.4444444444444444,\"#bd3786\"],[0.5555555555555556,\"#d8576b\"],[0.6666666666666666,\"#ed7953\"],[0.7777777777777778,\"#fb9f3a\"],[0.8888888888888888,\"#fdca26\"],[1.0,\"#f0f921\"]]}],\"mesh3d\":[{\"type\":\"mesh3d\",\"colorbar\":{\"outlinewidth\":0,\"ticks\":\"\"}}],\"scatter\":[{\"fillpattern\":{\"fillmode\":\"overlay\",\"size\":10,\"solidity\":0.2},\"type\":\"scatter\"}],\"parcoords\":[{\"type\":\"parcoords\",\"line\":{\"colorbar\":{\"outlinewidth\":0,\"ticks\":\"\"}}}],\"scatterpolargl\":[{\"type\":\"scatterpolargl\",\"marker\":{\"colorbar\":{\"outlinewidth\":0,\"ticks\":\"\"}}}],\"bar\":[{\"error_x\":{\"color\":\"#2a3f5f\"},\"error_y\":{\"color\":\"#2a3f5f\"},\"marker\":{\"line\":{\"color\":\"#E5ECF6\",\"width\":0.5},\"pattern\":{\"fillmode\":\"overlay\",\"size\":10,\"solidity\":0.2}},\"type\":\"bar\"}],\"scattergeo\":[{\"type\":\"scattergeo\",\"marker\":{\"colorbar\":{\"outlinewidth\":0,\"ticks\":\"\"}}}],\"scatterpolar\":[{\"type\":\"scatterpolar\",\"marker\":{\"colorbar\":{\"outlinewidth\":0,\"ticks\":\"\"}}}],\"histogram\":[{\"marker\":{\"pattern\":{\"fillmode\":\"overlay\",\"size\":10,\"solidity\":0.2}},\"type\":\"histogram\"}],\"scattergl\":[{\"type\":\"scattergl\",\"marker\":{\"colorbar\":{\"outlinewidth\":0,\"ticks\":\"\"}}}],\"scatter3d\":[{\"type\":\"scatter3d\",\"line\":{\"colorbar\":{\"outlinewidth\":0,\"ticks\":\"\"}},\"marker\":{\"colorbar\":{\"outlinewidth\":0,\"ticks\":\"\"}}}],\"scattermap\":[{\"type\":\"scattermap\",\"marker\":{\"colorbar\":{\"outlinewidth\":0,\"ticks\":\"\"}}}],\"scattermapbox\":[{\"type\":\"scattermapbox\",\"marker\":{\"colorbar\":{\"outlinewidth\":0,\"ticks\":\"\"}}}],\"scatterternary\":[{\"type\":\"scatterternary\",\"marker\":{\"colorbar\":{\"outlinewidth\":0,\"ticks\":\"\"}}}],\"scattercarpet\":[{\"type\":\"scattercarpet\",\"marker\":{\"colorbar\":{\"outlinewidth\":0,\"ticks\":\"\"}}}],\"carpet\":[{\"aaxis\":{\"endlinecolor\":\"#2a3f5f\",\"gridcolor\":\"white\",\"linecolor\":\"white\",\"minorgridcolor\":\"white\",\"startlinecolor\":\"#2a3f5f\"},\"baxis\":{\"endlinecolor\":\"#2a3f5f\",\"gridcolor\":\"white\",\"linecolor\":\"white\",\"minorgridcolor\":\"white\",\"startlinecolor\":\"#2a3f5f\"},\"type\":\"carpet\"}],\"table\":[{\"cells\":{\"fill\":{\"color\":\"#EBF0F8\"},\"line\":{\"color\":\"white\"}},\"header\":{\"fill\":{\"color\":\"#C8D4E3\"},\"line\":{\"color\":\"white\"}},\"type\":\"table\"}],\"barpolar\":[{\"marker\":{\"line\":{\"color\":\"#E5ECF6\",\"width\":0.5},\"pattern\":{\"fillmode\":\"overlay\",\"size\":10,\"solidity\":0.2}},\"type\":\"barpolar\"}],\"pie\":[{\"automargin\":true,\"type\":\"pie\"}]},\"layout\":{\"autotypenumbers\":\"strict\",\"colorway\":[\"#636efa\",\"#EF553B\",\"#00cc96\",\"#ab63fa\",\"#FFA15A\",\"#19d3f3\",\"#FF6692\",\"#B6E880\",\"#FF97FF\",\"#FECB52\"],\"font\":{\"color\":\"#2a3f5f\"},\"hovermode\":\"closest\",\"hoverlabel\":{\"align\":\"left\"},\"paper_bgcolor\":\"white\",\"plot_bgcolor\":\"#E5ECF6\",\"polar\":{\"bgcolor\":\"#E5ECF6\",\"angularaxis\":{\"gridcolor\":\"white\",\"linecolor\":\"white\",\"ticks\":\"\"},\"radialaxis\":{\"gridcolor\":\"white\",\"linecolor\":\"white\",\"ticks\":\"\"}},\"ternary\":{\"bgcolor\":\"#E5ECF6\",\"aaxis\":{\"gridcolor\":\"white\",\"linecolor\":\"white\",\"ticks\":\"\"},\"baxis\":{\"gridcolor\":\"white\",\"linecolor\":\"white\",\"ticks\":\"\"},\"caxis\":{\"gridcolor\":\"white\",\"linecolor\":\"white\",\"ticks\":\"\"}},\"coloraxis\":{\"colorbar\":{\"outlinewidth\":0,\"ticks\":\"\"}},\"colorscale\":{\"sequential\":[[0.0,\"#0d0887\"],[0.1111111111111111,\"#46039f\"],[0.2222222222222222,\"#7201a8\"],[0.3333333333333333,\"#9c179e\"],[0.4444444444444444,\"#bd3786\"],[0.5555555555555556,\"#d8576b\"],[0.6666666666666666,\"#ed7953\"],[0.7777777777777778,\"#fb9f3a\"],[0.8888888888888888,\"#fdca26\"],[1.0,\"#f0f921\"]],\"sequentialminus\":[[0.0,\"#0d0887\"],[0.1111111111111111,\"#46039f\"],[0.2222222222222222,\"#7201a8\"],[0.3333333333333333,\"#9c179e\"],[0.4444444444444444,\"#bd3786\"],[0.5555555555555556,\"#d8576b\"],[0.6666666666666666,\"#ed7953\"],[0.7777777777777778,\"#fb9f3a\"],[0.8888888888888888,\"#fdca26\"],[1.0,\"#f0f921\"]],\"diverging\":[[0,\"#8e0152\"],[0.1,\"#c51b7d\"],[0.2,\"#de77ae\"],[0.3,\"#f1b6da\"],[0.4,\"#fde0ef\"],[0.5,\"#f7f7f7\"],[0.6,\"#e6f5d0\"],[0.7,\"#b8e186\"],[0.8,\"#7fbc41\"],[0.9,\"#4d9221\"],[1,\"#276419\"]]},\"xaxis\":{\"gridcolor\":\"white\",\"linecolor\":\"white\",\"ticks\":\"\",\"title\":{\"standoff\":15},\"zerolinecolor\":\"white\",\"automargin\":true,\"zerolinewidth\":2},\"yaxis\":{\"gridcolor\":\"white\",\"linecolor\":\"white\",\"ticks\":\"\",\"title\":{\"standoff\":15},\"zerolinecolor\":\"white\",\"automargin\":true,\"zerolinewidth\":2},\"scene\":{\"xaxis\":{\"backgroundcolor\":\"#E5ECF6\",\"gridcolor\":\"white\",\"linecolor\":\"white\",\"showbackground\":true,\"ticks\":\"\",\"zerolinecolor\":\"white\",\"gridwidth\":2},\"yaxis\":{\"backgroundcolor\":\"#E5ECF6\",\"gridcolor\":\"white\",\"linecolor\":\"white\",\"showbackground\":true,\"ticks\":\"\",\"zerolinecolor\":\"white\",\"gridwidth\":2},\"zaxis\":{\"backgroundcolor\":\"#E5ECF6\",\"gridcolor\":\"white\",\"linecolor\":\"white\",\"showbackground\":true,\"ticks\":\"\",\"zerolinecolor\":\"white\",\"gridwidth\":2}},\"shapedefaults\":{\"line\":{\"color\":\"#2a3f5f\"}},\"annotationdefaults\":{\"arrowcolor\":\"#2a3f5f\",\"arrowhead\":0,\"arrowwidth\":1},\"geo\":{\"bgcolor\":\"white\",\"landcolor\":\"#E5ECF6\",\"subunitcolor\":\"white\",\"showland\":true,\"showlakes\":true,\"lakecolor\":\"white\"},\"title\":{\"x\":0.05},\"mapbox\":{\"style\":\"light\"},\"margin\":{\"b\":0,\"l\":0,\"r\":0,\"t\":30}}},\"xaxis\":{\"anchor\":\"y\",\"domain\":[0.0,1.0],\"title\":{\"text\":\"time\"}},\"yaxis\":{\"anchor\":\"x\",\"domain\":[0.0,1.0],\"title\":{\"text\":\"u\"}},\"legend\":{\"title\":{\"text\":\"depth\"},\"tracegroupgap\":0}},                        {\"responsive\": true}                    ).then(function(){\n",
              "                            \n",
              "var gd = document.getElementById('a086fca8-1a3a-4370-9302-bbf478795bc3');\n",
              "var x = new MutationObserver(function (mutations, observer) {{\n",
              "        var display = window.getComputedStyle(gd).display;\n",
              "        if (!display || display === 'none') {{\n",
              "            console.log([gd, 'removed!']);\n",
              "            Plotly.purge(gd);\n",
              "            observer.disconnect();\n",
              "        }}\n",
              "}});\n",
              "\n",
              "// Listen for the removal of the full notebook cells\n",
              "var notebookContainer = gd.closest('#notebook-container');\n",
              "if (notebookContainer) {{\n",
              "    x.observe(notebookContainer, {childList: true});\n",
              "}}\n",
              "\n",
              "// Listen for the clearing of the current output cell\n",
              "var outputEl = gd.closest('.output');\n",
              "if (outputEl) {{\n",
              "    x.observe(outputEl, {childList: true});\n",
              "}}\n",
              "\n",
              "                        })                };            </script>        </div>"
            ]
          }
        }
      ],
      "source": [
        "import plotly.express as px\n",
        "\n",
        "px.line(df, x=\"time\", y=\"u\",color=\"depth\")"
      ],
      "id": "7f4b8a31"
    },
    {
      "cell_type": "markdown",
      "metadata": {},
      "source": [
        "### Command line"
      ],
      "id": "ef7d8574-d570-412c-84dc-ee45510578fd"
    },
    {
      "cell_type": "code",
      "execution_count": 5,
      "metadata": {},
      "outputs": [
        {
          "output_type": "stream",
          "name": "stdout",
          "text": [
            "╭───────────────────── Traceback (most recent call last) ──────────────────────╮\n",
            "│ /home/runner/work/tidepredictor/tidepredictor/tidepredictor/main.py:78 in    │\n",
            "│ main                                                                         │\n",
            "│                                                                              │\n",
            "│    75 │   match type:                                                        │\n",
            "│    76 │   │   case PredictionType.level:                                     │\n",
            "│    77 │   │   │   predictor = LevelPredictor(constituent_repo=repo)          │\n",
            "│ ❱  78 │   │   │   df = predictor.predict(                                    │\n",
            "│    79 │   │   │   │   lon=lon,                                               │\n",
            "│    80 │   │   │   │   lat=lat,                                               │\n",
            "│    81 │   │   │   │   start=prediction_start,                                │\n",
            "│                                                                              │\n",
            "│ ╭───────────────────────────────── locals ─────────────────────────────────╮ │\n",
            "│ │            alpha = 0.14285714285714285                                   │ │\n",
            "│ │              end = datetime.datetime(2021, 1, 1, 2, 0)                   │ │\n",
            "│ │           format = <Format.csv: 'csv'>                                   │ │\n",
            "│ │         interval = 30                                                    │ │\n",
            "│ │              lat = 0.0                                                   │ │\n",
            "│ │              lon = 0.0                                                   │ │\n",
            "│ │           output = None                                                  │ │\n",
            "│ │             path = PosixPath('/home/runner/.local/share/tidepredictor/l… │ │\n",
            "│ │        precision = 3                                                     │ │\n",
            "│ │   prediction_end = datetime.datetime(2021, 1, 1, 2, 0)                   │ │\n",
            "│ │ prediction_start = datetime.datetime(2021, 1, 1, 0, 0)                   │ │\n",
            "│ │        predictor = <tidepredictor.prediction.level.LevelPredictor object │ │\n",
            "│ │                    at 0x7f4f859587d0>                                    │ │\n",
            "│ │             repo = <tidepredictor.data.NetCDFConstituentRepository       │ │\n",
            "│ │                    object at 0x7f4f8f90b6d0>                             │ │\n",
            "│ │            start = datetime.datetime(2021, 1, 1, 0, 0)                   │ │\n",
            "│ │             type = <PredictionType.level: 'level'>                       │ │\n",
            "│ ╰──────────────────────────────────────────────────────────────────────────╯ │\n",
            "│                                                                              │\n",
            "│ /home/runner/work/tidepredictor/tidepredictor/tidepredictor/prediction/level │\n",
            "│ .py:73 in predict                                                            │\n",
            "│                                                                              │\n",
            "│    70 │   │   )                                                              │\n",
            "│    71 │   │   # TODO do we need this?                                        │\n",
            "│    72 │   │   t = pd.date_range(start=start, end=end, freq=interval)         │\n",
            "│ ❱  73 │   │   coef = self._coef(                                             │\n",
            "│    74 │   │   │   lon=lon,                                                   │\n",
            "│    75 │   │   │   lat=lat,                                                   │\n",
            "│    76 │   │   )                                                              │\n",
            "│                                                                              │\n",
            "│ ╭───────────────────────────────── locals ─────────────────────────────────╮ │\n",
            "│ │       df = shape: (5, 1)                                                 │ │\n",
            "│ │            ┌─────────────────────┐                                       │ │\n",
            "│ │            │ time                │                                       │ │\n",
            "│ │            │ ---                 │                                       │ │\n",
            "│ │            │ datetime[ns]        │                                       │ │\n",
            "│ │            ╞═════════════════════╡                                       │ │\n",
            "│ │            │ 2021-01-01 00:00:00 │                                       │ │\n",
            "│ │            │ 2021-01-01 00:30:00 │                                       │ │\n",
            "│ │            │ 2021-01-01 01:00:00 │                                       │ │\n",
            "│ │            │ 2021-01-01 01:30:00 │                                       │ │\n",
            "│ │            │ 2021-01-01 02:00:00 │                                       │ │\n",
            "│ │            └─────────────────────┘                                       │ │\n",
            "│ │      end = datetime.datetime(2021, 1, 1, 2, 0)                           │ │\n",
            "│ │ interval = datetime.timedelta(seconds=1800)                              │ │\n",
            "│ │      lat = 0.0                                                           │ │\n",
            "│ │      lon = 0.0                                                           │ │\n",
            "│ │     self = <tidepredictor.prediction.level.LevelPredictor object at      │ │\n",
            "│ │            0x7f4f859587d0>                                               │ │\n",
            "│ │    start = datetime.datetime(2021, 1, 1, 0, 0)                           │ │\n",
            "│ │        t = DatetimeIndex(['2021-01-01 00:00:00', '2021-01-01 00:30:00',  │ │\n",
            "│ │            │   │   │      '2021-01-01 01:00:00', '2021-01-01 01:30:00',  │ │\n",
            "│ │            │   │   │      '2021-01-01 02:00:00'],                        │ │\n",
            "│ │            │   │   │     dtype='datetime64[ns]', freq='30min')           │ │\n",
            "│ ╰──────────────────────────────────────────────────────────────────────────╯ │\n",
            "│                                                                              │\n",
            "│ /home/runner/work/tidepredictor/tidepredictor/tidepredictor/prediction/level │\n",
            "│ .py:87 in _coef                                                              │\n",
            "│                                                                              │\n",
            "│    84 │   def _coef(self, lon: float, lat: float) -> Coef:                   │\n",
            "│    85 │   │   coef = Coef.template()                                         │\n",
            "│    86 │   │                                                                  │\n",
            "│ ❱  87 │   │   cons = self._constituent_repo.get_level_constituents(lon=lon,  │\n",
            "│    88 │   │   coef.A = np.array([v.amplitude for v in cons.values()])        │\n",
            "│    89 │   │   coef.g = np.array([v.phase for v in cons.values()])            │\n",
            "│    90 │   │   names = list(cons.keys())                                      │\n",
            "│                                                                              │\n",
            "│ ╭───────────────────────────────── locals ─────────────────────────────────╮ │\n",
            "│ │ coef = Coef(                                                             │ │\n",
            "│ │        │   name=[                                                        │ │\n",
            "│ │        │   │   'K1',                                                     │ │\n",
            "│ │        │   │   'K2',                                                     │ │\n",
            "│ │        │   │   'M2',                                                     │ │\n",
            "│ │        │   │   'M4',                                                     │ │\n",
            "│ │        │   │   'MF',                                                     │ │\n",
            "│ │        │   │   'MM',                                                     │ │\n",
            "│ │        │   │   'MN4',                                                    │ │\n",
            "│ │        │   │   'MS4',                                                    │ │\n",
            "│ │        │   │   'N2'                                                      │ │\n",
            "│ │        │   ],                                                            │ │\n",
            "│ │        │   mean=0.0,                                                     │ │\n",
            "│ │        │   umean=0.0,                                                    │ │\n",
            "│ │        │   vmean=0.0,                                                    │ │\n",
            "│ │        │   A=array([1.00227454, 0.02250278, 0.01775812, 0.01605451,      │ │\n",
            "│ │        0.01220086,                                                       │ │\n",
            "│ │        │      0.00751468, 0.00708371, 0.00577484, 0.00313313]),          │ │\n",
            "│ │        │   g=array([139.03197411, 144.78007052, 117.14151752,            │ │\n",
            "│ │        104.1430418 ,                                                     │ │\n",
            "│ │        │      216.82454621,   4.40876086, 240.44658427,  50.66603851,    │ │\n",
            "│ │        │      144.04531879]),                                            │ │\n",
            "│ │        │   Lsmaj=array([], dtype=float64),                               │ │\n",
            "│ │        │   Lsmin=array([], dtype=float64),                               │ │\n",
            "│ │        │   theta=array([], dtype=float64),                               │ │\n",
            "│ │        │   aux={                                                         │ │\n",
            "│ │        │   │   'reftime': 737429.1458333333,                             │ │\n",
            "│ │        │   │   'frq': array([0.0805114 , 0.04178075, 0.3220456 ,         │ │\n",
            "│ │        0.20280355, 0.1207671 ,                                           │ │\n",
            "│ │        │      0.28331495, 0.1610228 , 0.2415342 , 0.20844741]),          │ │\n",
            "│ │        │   │   'lind': array([ 47,  20, 124,  95,  68, 119,  81, 105,    │ │\n",
            "│ │        98]),                                                             │ │\n",
            "│ │        │   │   'lat': 42.0,                                              │ │\n",
            "│ │        │   │   'opt': {                                                  │ │\n",
            "│ │        │   │   │   'twodim': False,                                      │ │\n",
            "│ │        │   │   │   'nodiagn': True,                                      │ │\n",
            "│ │        │   │   │   'nodsatlint': 0,                                      │ │\n",
            "│ │        │   │   │   'nodsatnone': True,                                   │ │\n",
            "│ │        │   │   │   'gwchlint': False,                                    │ │\n",
            "│ │        │   │   │   'gwchnone': False,                                    │ │\n",
            "│ │        │   │   │   'notrend': True,                                      │ │\n",
            "│ │        │   │   │   'prefilt': array([], dtype=float64)                   │ │\n",
            "│ │        │   │   }                                                         │ │\n",
            "│ │        │   }                                                             │ │\n",
            "│ │        )                                                                 │ │\n",
            "│ │  lat = 0.0                                                               │ │\n",
            "│ │  lon = 0.0                                                               │ │\n",
            "│ │ self = <tidepredictor.prediction.level.LevelPredictor object at          │ │\n",
            "│ │        0x7f4f859587d0>                                                   │ │\n",
            "│ ╰──────────────────────────────────────────────────────────────────────────╯ │\n",
            "│                                                                              │\n",
            "│ /home/runner/work/tidepredictor/tidepredictor/tidepredictor/data.py:185 in   │\n",
            "│ get_level_constituents                                                       │\n",
            "│                                                                              │\n",
            "│   182 │   │   dict[str, LevelConstituent]                                    │\n",
            "│   183 │   │   │   The level constituents.                                    │\n",
            "│   184 │   │   \"\"\"                                                            │\n",
            "│ ❱ 185 │   │   return self._reader.get_level_constituents(lat=lat, lon=lon)   │\n",
            "│   186 │                                                                      │\n",
            "│   187 │   def get_current_constituents(                                      │\n",
            "│   188 │   │   self, lon: float, lat: float                                   │\n",
            "│                                                                              │\n",
            "│ ╭───────────────────────────────── locals ─────────────────────────────────╮ │\n",
            "│ │  lat = 0.0                                                               │ │\n",
            "│ │  lon = 0.0                                                               │ │\n",
            "│ │ self = <tidepredictor.data.NetCDFConstituentRepository object at         │ │\n",
            "│ │        0x7f4f8f90b6d0>                                                   │ │\n",
            "│ ╰──────────────────────────────────────────────────────────────────────────╯ │\n",
            "│                                                                              │\n",
            "│ /home/runner/work/tidepredictor/tidepredictor/tidepredictor/data.py:64 in    │\n",
            "│ get_level_constituents                                                       │\n",
            "│                                                                              │\n",
            "│    61 │   │   │   The constituents.                                          │\n",
            "│    62 │   │   \"\"\"                                                            │\n",
            "│    63 │   │   with xr.open_dataset(self.file_path) as ds:                    │\n",
            "│ ❱  64 │   │   │   self._validate_data_domain(ds, lon, lat)                   │\n",
            "│    65 │   │   │                                                              │\n",
            "│    66 │   │   │   df = ds.sel(lon=lon, lat=lat, method=\"nearest\").to_datafra │\n",
            "│    67                                                                        │\n",
            "│                                                                              │\n",
            "│ ╭───────────────────────────────── locals ─────────────────────────────────╮ │\n",
            "│ │   ds = <xarray.Dataset> Size: 195kB                                      │ │\n",
            "│ │        Dimensions:     (lon: 60, lat: 30, cons: 13)                      │ │\n",
            "│ │        Coordinates:                                                      │ │\n",
            "│ │          * lon         (lon) float64 480B -3.467 -3.433 -3.4 ... -1.567  │ │\n",
            "│ │        -1.533 -1.5                                                       │ │\n",
            "│ │          * lat         (lat) float64 240B 55.5 55.53 55.57 55.6 ... 56.4 │ │\n",
            "│ │        56.43 56.47                                                       │ │\n",
            "│ │          * cons        (cons) <U3 156B 'MM' 'MF' 'Q1' 'O1' ... 'K2'      │ │\n",
            "│ │        'MN4' 'M4' 'MS4'                                                  │ │\n",
            "│ │        Data variables:                                                   │ │\n",
            "│ │        │   amplitude   (cons, lat, lon) float32 94kB ...                 │ │\n",
            "│ │        │   phase       (cons, lat, lon) float32 94kB ...                 │ │\n",
            "│ │        │   bathymetry  (lon, lat) float32 7kB ...                        │ │\n",
            "│ │  lat = 0.0                                                               │ │\n",
            "│ │  lon = 0.0                                                               │ │\n",
            "│ │ self = <tidepredictor.data.ConstituentReader object at 0x7f4f872a9150>   │ │\n",
            "│ ╰──────────────────────────────────────────────────────────────────────────╯ │\n",
            "│                                                                              │\n",
            "│ /home/runner/work/tidepredictor/tidepredictor/tidepredictor/data.py:125 in   │\n",
            "│ _validate_data_domain                                                        │\n",
            "│                                                                              │\n",
            "│   122 │   │   Validates the data domain.                                     │\n",
            "│   123 │   │   \"\"\"                                                            │\n",
            "│   124 │   │   if lon < ds.lon.min() or lon > ds.lon.max():                   │\n",
            "│ ❱ 125 │   │   │   raise ValueError(f\"Longitude {lon} is outside the data dom │\n",
            "│   126 │   │   if lat < ds.lat.min() or lat > ds.lat.max():                   │\n",
            "│   127 │   │   │   raise ValueError(f\"Latitude {lat} is outside the data doma │\n",
            "│   128                                                                        │\n",
            "│                                                                              │\n",
            "│ ╭───────────────────────────────── locals ─────────────────────────────────╮ │\n",
            "│ │  ds = <xarray.Dataset> Size: 195kB                                       │ │\n",
            "│ │       Dimensions:     (lon: 60, lat: 30, cons: 13)                       │ │\n",
            "│ │       Coordinates:                                                       │ │\n",
            "│ │         * lon         (lon) float64 480B -3.467 -3.433 -3.4 ... -1.567   │ │\n",
            "│ │       -1.533 -1.5                                                        │ │\n",
            "│ │         * lat         (lat) float64 240B 55.5 55.53 55.57 55.6 ... 56.4  │ │\n",
            "│ │       56.43 56.47                                                        │ │\n",
            "│ │         * cons        (cons) <U3 156B 'MM' 'MF' 'Q1' 'O1' ... 'K2' 'MN4' │ │\n",
            "│ │       'M4' 'MS4'                                                         │ │\n",
            "│ │       Data variables:                                                    │ │\n",
            "│ │       │   amplitude   (cons, lat, lon) float32 94kB ...                  │ │\n",
            "│ │       │   phase       (cons, lat, lon) float32 94kB ...                  │ │\n",
            "│ │       │   bathymetry  (lon, lat) float32 7kB ...                         │ │\n",
            "│ │ lat = 0.0                                                                │ │\n",
            "│ │ lon = 0.0                                                                │ │\n",
            "│ ╰──────────────────────────────────────────────────────────────────────────╯ │\n",
            "╰──────────────────────────────────────────────────────────────────────────────╯\n",
            "ValueError: Longitude 0.0 is outside the data domain"
          ]
        }
      ],
      "source": [
        "!tidepredictor -x 0.0 -y 0.0 -s \"2021-01-01\" -e \"2021-01-01 02:00:00\" -i 30"
      ],
      "id": "71721904"
    },
    {
      "cell_type": "markdown",
      "metadata": {},
      "source": [
        "All options are available as command line arguments."
      ],
      "id": "95205a1f-fab4-4bbc-a07c-dc3a1b28e973"
    },
    {
      "cell_type": "code",
      "execution_count": 6,
      "metadata": {},
      "outputs": [
        {
          "output_type": "stream",
          "name": "stdout",
          "text": [
            "                                                                                \n",
            " Usage: tidepredictor [OPTIONS]                                                 \n",
            "                                                                                \n",
            " Predict the tides for a given location.                                        \n",
            "                                                                                \n",
            "╭─ Options ────────────────────────────────────────────────────────────────────╮\n",
            "│ *  --lon                 -x      FLOAT RANGE           Longitude             │\n",
            "│                                  [-180<=x<=180]        [default: None]       │\n",
            "│                                                        [required]            │\n",
            "│ *  --lat                 -y      FLOAT RANGE           Latitude              │\n",
            "│                                  [-90<=x<=90]          [default: None]       │\n",
            "│                                                        [required]            │\n",
            "│    --start               -s      [%Y-%m-%d|%Y-%m-%dT%  Start date            │\n",
            "│                                  H:%M:%S|%Y-%m-%d      [default: None]       │\n",
            "│                                  %H:%M:%S]                                   │\n",
            "│    --end                 -e      [%Y-%m-%d|%Y-%m-%dT%  End date              │\n",
            "│                                  H:%M:%S|%Y-%m-%d      [default: None]       │\n",
            "│                                  %H:%M:%S]                                   │\n",
            "│    --interval            -i      INTEGER RANGE [x>=1]  Interval in minutes   │\n",
            "│                                                        [default: 30]         │\n",
            "│    --output              -o      PATH                  Output file, default  │\n",
            "│                                                        is stdout             │\n",
            "│                                                        [default: None]       │\n",
            "│    --format                      [csv|json]            Output format         │\n",
            "│                                                        [default: csv]        │\n",
            "│    --type                        [level|current]       Type of prediction,   │\n",
            "│                                                        level or u,v          │\n",
            "│                                                        [default: level]      │\n",
            "│    --precision           -p      INTEGER RANGE [x>=0]  Number of decimal     │\n",
            "│                                                        places. (csv only)    │\n",
            "│                                                        [default: 3]          │\n",
            "│    --alpha                       FLOAT                 Alpha factor for      │\n",
            "│                                                        current profile       │\n",
            "│                                                        [default:             │\n",
            "│                                                        0.14285714285714285]  │\n",
            "│    --install-completion                                Install completion    │\n",
            "│                                                        for the current       │\n",
            "│                                                        shell.                │\n",
            "│    --show-completion                                   Show completion for   │\n",
            "│                                                        the current shell, to │\n",
            "│                                                        copy it or customize  │\n",
            "│                                                        the installation.     │\n",
            "│    --help                                              Show this message and │\n",
            "│                                                        exit.                 │\n",
            "╰──────────────────────────────────────────────────────────────────────────────╯\n"
          ]
        }
      ],
      "source": [
        "!tidepredictor --help"
      ],
      "id": "ce4f72e8"
    }
  ],
  "nbformat": 4,
  "nbformat_minor": 5,
  "metadata": {
    "kernelspec": {
      "name": "python3",
      "display_name": "Python 3 (ipykernel)",
      "language": "python",
      "path": "/home/runner/work/tidepredictor/tidepredictor/.venv/share/jupyter/kernels/python3"
    },
    "language_info": {
      "name": "python",
      "codemirror_mode": {
        "name": "ipython",
        "version": "3"
      },
      "file_extension": ".py",
      "mimetype": "text/x-python",
      "nbconvert_exporter": "python",
      "pygments_lexer": "ipython3",
      "version": "3.11.11"
    }
  }
}