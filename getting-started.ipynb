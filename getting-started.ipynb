{
  "cells": [
    {
      "cell_type": "markdown",
      "metadata": {},
      "source": [
        "# Getting started\n",
        "\n",
        "## Installation\n",
        "\n",
        "1.  Install the tidepredictor package from the distributed wheel file.\n",
        "\n",
        "``` bash\n",
        "pip install tidepredictor-*.whl\n",
        "```\n",
        "\n",
        "1.  Copy constituent files (`.nc` files) to the\n",
        "    `~/.local/share/tidepredictor` directory.\n",
        "\n",
        "## Usage\n",
        "\n",
        "`tidepredictor` can be used either as a command line tool or as a Python\n",
        "library.\n",
        "\n",
        "### Python library"
      ],
      "id": "67d31d61-91ec-40ee-8e38-1b2a97de73a3"
    },
    {
      "cell_type": "code",
      "execution_count": 1,
      "metadata": {},
      "outputs": [
        {
          "output_type": "display_data",
          "metadata": {},
          "data": {
            "text/html": [
              "</div>"
            ]
          }
        }
      ],
      "source": [
        "import tidepredictor as tp\n",
        "from datetime import datetime, timedelta\n",
        "\n",
        "path = tp.get_default_constituent_path(tp.PredictionType.level)\n",
        "\n",
        "repo = tp.NetCDFConstituentRepository(path)\n",
        "\n",
        "predictor = tp.LevelPredictor(repo)\n",
        "\n",
        "df = predictor.predict(\n",
        "    lon=-2.75,\n",
        "    lat=56.1,\n",
        "    start=datetime(2021, 1, 1),\n",
        "    end=datetime(2021, 1, 1, 12),\n",
        "    interval=timedelta(hours=1),\n",
        ")\n",
        "df"
      ],
      "id": "61a75679"
    },
    {
      "cell_type": "markdown",
      "metadata": {},
      "source": [
        "And similar for depth averaged currents."
      ],
      "id": "8d99d064-af0d-4f97-8c18-b455e58809e9"
    },
    {
      "cell_type": "code",
      "execution_count": 2,
      "metadata": {},
      "outputs": [
        {
          "output_type": "display_data",
          "metadata": {},
          "data": {
            "text/html": [
              "</div>"
            ]
          }
        }
      ],
      "source": [
        "path = tp.get_default_constituent_path(tp.PredictionType.current)\n",
        "\n",
        "repo = tp.NetCDFConstituentRepository(path)\n",
        "\n",
        "predictor = tp.CurrentPredictor(repo)\n",
        "\n",
        "df = predictor.predict_depth_averaged(\n",
        "    lon=-2.75,\n",
        "    lat=56.1,\n",
        "    start=datetime(2021, 1, 1),\n",
        "    end=datetime(2021, 1, 1, 12),\n",
        "    interval=timedelta(hours=1)\n",
        ")\n",
        "df"
      ],
      "id": "68606f91"
    },
    {
      "cell_type": "markdown",
      "metadata": {},
      "source": [
        "And current profiles."
      ],
      "id": "eb1be625-88f7-4926-b768-9c8a58745370"
    },
    {
      "cell_type": "code",
      "execution_count": 3,
      "metadata": {},
      "outputs": [
        {
          "output_type": "display_data",
          "metadata": {},
          "data": {
            "text/html": [
              "</div>"
            ]
          }
        }
      ],
      "source": [
        "path = tp.get_default_constituent_path(tp.PredictionType.current)\n",
        "\n",
        "repo = tp.NetCDFConstituentRepository(path)\n",
        "\n",
        "predictor = tp.CurrentPredictor(repo)\n",
        "\n",
        "df = predictor.predict_profile(\n",
        "    lon=-2.75,\n",
        "    lat=56.1,\n",
        "    start=datetime(2021, 1, 1),\n",
        "    end=datetime(2021, 1, 2, 1),\n",
        "    interval=timedelta(hours=1),\n",
        "    levels=[-1.0, -5.0, -15.0]\n",
        ")\n",
        "df"
      ],
      "id": "28f94d6c"
    },
    {
      "cell_type": "markdown",
      "metadata": {},
      "source": [
        "### Command line"
      ],
      "id": "72112634-9fe9-4d10-8b13-2fdd148d452c"
    },
    {
      "cell_type": "code",
      "execution_count": 4,
      "metadata": {},
      "outputs": [
        {
          "output_type": "stream",
          "name": "stdout",
          "text": [
            "time,level\n",
            "2021-01-01T00:00:00Z,-0.442\n",
            "2021-01-01T00:30:00Z,0.035\n",
            "2021-01-01T01:00:00Z,0.498\n",
            "2021-01-01T01:30:00Z,0.919\n",
            "2021-01-01T02:00:00Z,1.277\n"
          ]
        }
      ],
      "source": [
        "!tidepredictor -x -2.75 -y 56.1 -s \"2021-01-01\" -e \"2021-01-01 02:00:00\" -i 30"
      ],
      "id": "e69ab1df"
    },
    {
      "cell_type": "markdown",
      "metadata": {},
      "source": [
        "All options are available as command line arguments."
      ],
      "id": "ee4ea493-9241-4d89-a2c1-b05393b67ad8"
    },
    {
      "cell_type": "code",
      "execution_count": 5,
      "metadata": {},
      "outputs": [
        {
          "output_type": "stream",
          "name": "stdout",
          "text": [
            "                                                                                \n",
            " Usage: tidepredictor [OPTIONS]                                                 \n",
            "                                                                                \n",
            " Predict the tides for a given location.                                        \n",
            "                                                                                \n",
            "╭─ Options ────────────────────────────────────────────────────────────────────╮\n",
            "│ *  --lon                 -x      FLOAT RANGE           Longitude             │\n",
            "│                                  [-180<=x<=180]        [default: None]       │\n",
            "│                                                        [required]            │\n",
            "│ *  --lat                 -y      FLOAT RANGE           Latitude              │\n",
            "│                                  [-90<=x<=90]          [default: None]       │\n",
            "│                                                        [required]            │\n",
            "│    --start               -s      [%Y-%m-%d|%Y-%m-%dT%  Start date            │\n",
            "│                                  H:%M:%S|%Y-%m-%d      [default: None]       │\n",
            "│                                  %H:%M:%S]                                   │\n",
            "│    --end                 -e      [%Y-%m-%d|%Y-%m-%dT%  End date              │\n",
            "│                                  H:%M:%S|%Y-%m-%d      [default: None]       │\n",
            "│                                  %H:%M:%S]                                   │\n",
            "│    --interval            -i      INTEGER RANGE [x>=1]  Interval in minutes   │\n",
            "│                                                        [default: 30]         │\n",
            "│    --output              -o      PATH                  Output file, default  │\n",
            "│                                                        is stdout             │\n",
            "│                                                        [default: None]       │\n",
            "│    --format                      [csv|json]            Output format         │\n",
            "│                                                        [default: csv]        │\n",
            "│    --type                        [level|current]       Type of prediction,   │\n",
            "│                                                        level or u,v          │\n",
            "│                                                        [default: level]      │\n",
            "│    --precision           -p      INTEGER RANGE [x>=0]  Number of decimal     │\n",
            "│                                                        places. (csv only)    │\n",
            "│                                                        [default: 3]          │\n",
            "│    --alpha                       FLOAT                 Alpha factor for      │\n",
            "│                                                        current profile       │\n",
            "│                                                        [default:             │\n",
            "│                                                        0.14285714285714285]  │\n",
            "│    --install-completion                                Install completion    │\n",
            "│                                                        for the current       │\n",
            "│                                                        shell.                │\n",
            "│    --show-completion                                   Show completion for   │\n",
            "│                                                        the current shell, to │\n",
            "│                                                        copy it or customize  │\n",
            "│                                                        the installation.     │\n",
            "│    --help                                              Show this message and │\n",
            "│                                                        exit.                 │\n",
            "╰──────────────────────────────────────────────────────────────────────────────╯\n"
          ]
        }
      ],
      "source": [
        "!tidepredictor --help"
      ],
      "id": "fa01d958"
    }
  ],
  "nbformat": 4,
  "nbformat_minor": 5,
  "metadata": {
    "kernelspec": {
      "name": "python3",
      "display_name": "Python 3 (ipykernel)",
      "language": "python",
      "path": "/home/runner/work/tidepredictor/tidepredictor/.venv/share/jupyter/kernels/python3"
    },
    "language_info": {
      "name": "python",
      "codemirror_mode": {
        "name": "ipython",
        "version": "3"
      },
      "file_extension": ".py",
      "mimetype": "text/x-python",
      "nbconvert_exporter": "python",
      "pygments_lexer": "ipython3",
      "version": "3.11.11"
    }
  }
}