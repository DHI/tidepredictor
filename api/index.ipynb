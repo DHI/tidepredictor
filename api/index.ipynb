{
  "cells": [
    {
      "cell_type": "markdown",
      "metadata": {},
      "source": [
        "# \n",
        "\n",
        "# API Reference\n",
        "\n",
        "## Tidepredictor\n",
        "\n",
        "|  |  |\n",
        "|------------------------------------|------------------------------------|\n",
        "| [LevelPredictor](LevelPredictor.qmd#tidepredictor.LevelPredictor) | Predict tidal levels timeseries (surface elevation) |\n",
        "| [CurrentPredictor](CurrentPredictor.qmd#tidepredictor.CurrentPredictor) |  |\n",
        "| [NetCDFConstituentRepository](NetCDFConstituentRepository.qmd#tidepredictor.NetCDFConstituentRepository) | A repository of tidal constituents stored in a NetCDF file. |\n",
        "| [get_default_constituent_path](get_default_constituent_path.qmd#tidepredictor.get_default_constituent_path) | Get the default path to the constituent file. |\n",
        "| [PredictionType](PredictionType.qmd#tidepredictor.PredictionType) |  |"
      ],
      "id": "6d16e463-49df-4060-a956-47db31a6385d"
    }
  ],
  "nbformat": 4,
  "nbformat_minor": 5,
  "metadata": {
    "kernelspec": {
      "display_name": "Python 3",
      "language": "python",
      "name": "python3"
    }
  }
}