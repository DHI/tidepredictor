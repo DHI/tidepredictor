{
  "cells": [
    {
      "cell_type": "markdown",
      "metadata": {},
      "source": [
        "# \n",
        "\n",
        "# API Reference\n",
        "\n",
        "## Tidepredictor\n",
        "\n",
        "|  |  |\n",
        "|------------------------------------|------------------------------------|\n",
        "| [UtideAdapter](UtideAdapter.qmd#tidepredictor.UtideAdapter) | Adapter for the utide tide predictor engine. |\n",
        "| [NetCDFConstituentRepository](NetCDFConstituentRepository.qmd#tidepredictor.NetCDFConstituentRepository) | A repository of tidal constituents stored in a NetCDF file. |\n",
        "| [get_default_constituent_path](get_default_constituent_path.qmd#tidepredictor.get_default_constituent_path) | Get the default path to the constituent file. |\n",
        "| [PredictionType](PredictionType.qmd#tidepredictor.PredictionType) |  |"
      ],
      "id": "04023437-6964-42a3-887d-4972fb561e4b"
    }
  ],
  "nbformat": 4,
  "nbformat_minor": 5,
  "metadata": {
    "kernelspec": {
      "display_name": "Python 3",
      "language": "python",
      "name": "python3"
    }
  }
}