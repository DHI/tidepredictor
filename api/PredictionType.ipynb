{
  "cells": [
    {
      "cell_type": "markdown",
      "metadata": {},
      "source": [
        "# \n",
        "\n",
        "# PredictionType\n",
        "\n",
        "``` python\n",
        "PredictionType()\n",
        "```"
      ],
      "id": "4708122d-f95d-4cdb-a320-b3b9eb1b16b9"
    }
  ],
  "nbformat": 4,
  "nbformat_minor": 5,
  "metadata": {
    "kernelspec": {
      "display_name": "Python 3",
      "language": "python",
      "name": "python3"
    }
  }
}