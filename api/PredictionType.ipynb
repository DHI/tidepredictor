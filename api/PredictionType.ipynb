{
  "cells": [
    {
      "cell_type": "markdown",
      "metadata": {},
      "source": [
        "# \n",
        "\n",
        "# PredictionType\n",
        "\n",
        "``` python\n",
        "PredictionType()\n",
        "```"
      ],
      "id": "8850f411-54c6-4faf-b981-467cd919ade8"
    }
  ],
  "nbformat": 4,
  "nbformat_minor": 5,
  "metadata": {
    "kernelspec": {
      "display_name": "Python 3",
      "language": "python",
      "name": "python3"
    }
  }
}