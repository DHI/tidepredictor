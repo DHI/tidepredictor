{
  "cells": [
    {
      "cell_type": "markdown",
      "metadata": {},
      "source": [
        "# \n",
        "\n",
        "# PredictionType\n",
        "\n",
        "``` python\n",
        "PredictionType()\n",
        "```"
      ],
      "id": "e2278bdd-68cc-4950-a89a-bbde5a09cd94"
    }
  ],
  "nbformat": 4,
  "nbformat_minor": 5,
  "metadata": {
    "kernelspec": {
      "display_name": "Python 3",
      "language": "python",
      "name": "python3"
    }
  }
}