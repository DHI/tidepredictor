{
  "cells": [
    {
      "cell_type": "markdown",
      "metadata": {},
      "source": [
        "# \n",
        "\n",
        "# PredictionType\n",
        "\n",
        "``` python\n",
        "PredictionType()\n",
        "```"
      ],
      "id": "9dcf384f-874b-4a46-b44e-cdffc438a62a"
    }
  ],
  "nbformat": 4,
  "nbformat_minor": 5,
  "metadata": {
    "kernelspec": {
      "display_name": "Python 3",
      "language": "python",
      "name": "python3"
    }
  }
}