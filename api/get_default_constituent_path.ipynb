{
  "cells": [
    {
      "cell_type": "markdown",
      "metadata": {},
      "source": [
        "# \n",
        "\n",
        "# get_default_constituent_path\n",
        "\n",
        "``` python\n",
        "get_default_constituent_path(prediction_type)\n",
        "```\n",
        "\n",
        "Get the default path to the constituent file.\n",
        "\n",
        "## Parameters\n",
        "\n",
        "| Name            | Type           | Description             | Default    |\n",
        "|-----------------|----------------|-------------------------|------------|\n",
        "| prediction_type | PredictionType | The type of prediction. | *required* |\n",
        "\n",
        "## Returns\n",
        "\n",
        "| Name | Type | Description                       |\n",
        "|------|------|-----------------------------------|\n",
        "|      | Path | The path to the constituent file. |"
      ],
      "id": "b1db7c5a-37b3-4b01-83f5-f3bc8a0e4a63"
    }
  ],
  "nbformat": 4,
  "nbformat_minor": 5,
  "metadata": {
    "kernelspec": {
      "display_name": "Python 3",
      "language": "python",
      "name": "python3"
    }
  }
}