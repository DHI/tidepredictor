{
  "cells": [
    {
      "cell_type": "markdown",
      "metadata": {},
      "source": [
        "# \n",
        "\n",
        "# get_default_constituent_path\n",
        "\n",
        "``` python\n",
        "get_default_constituent_path(prediction_type)\n",
        "```\n",
        "\n",
        "Get the default path to the constituent file.\n",
        "\n",
        "## Parameters\n",
        "\n",
        "| Name            | Type           | Description             | Default    |\n",
        "|-----------------|----------------|-------------------------|------------|\n",
        "| prediction_type | PredictionType | The type of prediction. | *required* |\n",
        "\n",
        "## Returns\n",
        "\n",
        "| Name | Type | Description                       |\n",
        "|------|------|-----------------------------------|\n",
        "|      | Path | The path to the constituent file. |"
      ],
      "id": "4985bc8e-cdee-473d-9ebf-8f220e2c8a1f"
    }
  ],
  "nbformat": 4,
  "nbformat_minor": 5,
  "metadata": {
    "kernelspec": {
      "display_name": "Python 3",
      "language": "python",
      "name": "python3"
    }
  }
}