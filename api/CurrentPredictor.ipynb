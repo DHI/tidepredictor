{
  "cells": [
    {
      "cell_type": "markdown",
      "metadata": {},
      "source": [
        "# \n",
        "\n",
        "# CurrentPredictor\n",
        "\n",
        "``` python\n",
        "CurrentPredictor(self, constituent_repo, alpha=1.0 / 7)\n",
        "```\n",
        "\n",
        "## Methods\n",
        "\n",
        "| Name | Description |\n",
        "|------------------------------------|------------------------------------|\n",
        "| [predict_depth_averaged](#tidepredictor.CurrentPredictor.predict_depth_averaged) | Predict tide levels or currents using utide. |\n",
        "\n",
        "### predict_depth_averaged\n",
        "\n",
        "``` python\n",
        "CurrentPredictor.predict_depth_averaged(\n",
        "    lon,\n",
        "    lat,\n",
        "    start,\n",
        "    end,\n",
        "    interval=timedelta(hours=1),\n",
        ")\n",
        "```\n",
        "\n",
        "Predict tide levels or currents using utide.\n",
        "\n",
        "#### Parameters\n",
        "\n",
        "| Name     | Type      | Description                       | Default              |\n",
        "|----------|-----------|--------------------------------|--------------------|\n",
        "| lon      | float     | The longitude.                    | *required*           |\n",
        "| lat      | float     | The latitude.                     | *required*           |\n",
        "| start    | datetime  | The start date.                   | *required*           |\n",
        "| end      | datetime  | The end date.                     | *required*           |\n",
        "| interval | timedelta | The interval between predictions. | `timedelta(hours=1)` |\n",
        "\n",
        "#### Returns\n",
        "\n",
        "| Name | Type         | Description                            |\n",
        "|------|--------------|----------------------------------------|\n",
        "|      | pl.DataFrame | The predicted tide levels or currents. |\n",
        "\n",
        "#### Notes\n",
        "\n",
        "The workhorse of this functions the `reconstruct` function from\n",
        "[`UTide`](https://github.com/wesleybowman/UTide)"
      ],
      "id": "529a621d-f320-44c4-9c52-e01f715e322a"
    }
  ],
  "nbformat": 4,
  "nbformat_minor": 5,
  "metadata": {
    "kernelspec": {
      "display_name": "Python 3",
      "language": "python",
      "name": "python3"
    }
  }
}