{
 "cells": [
  {
   "cell_type": "code",
   "execution_count": 1,
   "metadata": {},
   "outputs": [
    {
     "name": "stderr",
     "output_type": "stream",
     "text": [
      "/home/jan/src/tidepredictor/.venv/lib/python3.11/site-packages/utide/harmonics.py:16: RuntimeWarning: invalid value encountered in cast\n",
      "  nshallow = np.ma.masked_invalid(const.nshallow).astype(int)\n",
      "/home/jan/src/tidepredictor/.venv/lib/python3.11/site-packages/utide/harmonics.py:17: RuntimeWarning: invalid value encountered in cast\n",
      "  ishallow = np.ma.masked_invalid(const.ishallow).astype(int) - 1\n"
     ]
    },
    {
     "data": {
      "text/plain": [
       "array(['Z0', 'SA', 'SSA', 'MSM', 'MM', 'MSF', 'MF', 'ALP1', '2Q1', 'SIG1',\n",
       "       'Q1', 'RHO1', 'O1', 'TAU1', 'BET1', 'NO1', 'CHI1', 'PI1', 'P1',\n",
       "       'S1', 'K1', 'PSI1', 'PHI1', 'THE1', 'J1', '2PO1', 'SO1', 'OO1',\n",
       "       'UPS1', 'ST36', '2NS2', 'ST37', 'ST1', 'OQ2', 'EPS2', 'ST2', 'ST3',\n",
       "       'O2', '2N2', 'MU2', 'SNK2', 'N2', 'NU2', 'ST4', 'OP2', 'GAM2',\n",
       "       'H1', 'M2', 'H2', 'MKS2', 'ST5', 'ST6', 'LDA2', 'L2', '2SK2', 'T2',\n",
       "       'S2', 'R2', 'K2', 'MSN2', 'ETA2', 'ST7', '2SM2', 'ST38', 'SKM2',\n",
       "       '2SN2', 'NO3', 'MO3', 'M3', 'NK3', 'SO3', 'MK3', 'SP3', 'SK3',\n",
       "       'ST8', 'N4', '3MS4', 'ST39', 'MN4', 'ST9', 'ST40', 'M4', 'ST10',\n",
       "       'SN4', 'KN4', 'MS4', 'MK4', 'SL4', 'S4', 'SK4', 'MNO5', '2MO5',\n",
       "       '3MP5', 'MNK5', '2MP5', '2MK5', 'MSK5', '3KM5', '2SK5', 'ST11',\n",
       "       '2NM6', 'ST12', '2MN6', 'ST13', 'ST41', 'M6', 'MSN6', 'MKN6',\n",
       "       'ST42', '2MS6', '2MK6', 'NSK6', '2SM6', 'MSK6', 'S6', 'ST14',\n",
       "       'ST15', 'M7', 'ST16', '3MK7', 'ST17', 'ST18', '3MN8', 'ST19', 'M8',\n",
       "       'ST20', 'ST21', '3MS8', '3MK8', 'ST22', 'ST23', 'ST24', 'ST25',\n",
       "       'ST26', '4MK9', 'ST27', 'ST28', 'M10', 'ST29', 'ST30', 'ST31',\n",
       "       'ST32', 'ST33', 'M12', 'ST34', 'ST35'], dtype=object)"
      ]
     },
     "execution_count": 1,
     "metadata": {},
     "output_type": "execute_result"
    }
   ],
   "source": [
    "from utide._ut_constants import ut_constants\n",
    "\n",
    "ut_constants[\"const\"][\"name\"]"
   ]
  },
  {
   "cell_type": "code",
   "execution_count": 72,
   "metadata": {},
   "outputs": [
    {
     "name": "stdout",
     "output_type": "stream",
     "text": [
      "| name | freq_cph | period_h   |\n",
      "|------|----------|------------|\n",
      "| MM   | 0.001512 | 661.309268 |\n",
      "| MF   | 0.00305  | 327.858984 |\n",
      "| Q1   | 0.037219 | 26.868357  |\n",
      "| O1   | 0.038731 | 25.819342  |\n",
      "| P1   | 0.041553 | 24.06589   |\n",
      "| K1   | 0.041781 | 23.93447   |\n",
      "| N2   | 0.078999 | 12.658348  |\n",
      "| M2   | 0.080511 | 12.420601  |\n",
      "| S2   | 0.083333 | 12.0       |\n",
      "| K2   | 0.083561 | 11.967235  |\n"
     ]
    }
   ],
   "source": [
    "import polars as pl\n",
    "from utide._ut_constants import ut_constants\n",
    "\n",
    "used_consts = \"Q1 MF P1 K1 MM O1 M2 S2 M4 MN4 MS4 N2 K2\".split()\n",
    "\n",
    "consts = (\n",
    "    pl.DataFrame(ut_constants[\"const\"])\n",
    "    .select(\"name\", pl.col(\"freq\").alias(\"freq_cph\"))\n",
    "    .filter(pl.col(\"name\").is_in(used_consts))\n",
    "    .with_columns((1 / pl.col(\"freq_cph\")).alias(\"period_h\"))\n",
    "    .sort(\"period_h\", descending=True)\n",
    ")\n",
    "\n",
    "with pl.Config(\n",
    "    tbl_formatting=\"MARKDOWN\",\n",
    "    tbl_hide_column_data_types=True,\n",
    "    tbl_hide_dataframe_shape=True,\n",
    "):\n",
    "    print(consts.head(10))"
   ]
  },
  {
   "cell_type": "code",
   "execution_count": 67,
   "metadata": {},
   "outputs": [
    {
     "data": {
      "text/plain": [
       "'<div id=\"kiueaqtgjh\" style=\"padding-left:0px;padding-right:0px;padding-top:10px;padding-bottom:10px;overflow-x:auto;overflow-y:auto;width:auto;height:auto;\">\\n<style>\\n#kiueaqtgjh table {\\n          font-family: -apple-system, BlinkMacSystemFont, \\'Segoe UI\\', Roboto, Oxygen, Ubuntu, Cantarell, \\'Helvetica Neue\\', \\'Fira Sans\\', \\'Droid Sans\\', Arial, sans-serif;\\n          -webkit-font-smoothing: antialiased;\\n          -moz-osx-font-smoothing: grayscale;\\n        }\\n\\n#kiueaqtgjh thead, tbody, tfoot, tr, td, th { border-style: none; }\\n tr { background-color: transparent; }\\n#kiueaqtgjh p { margin: 0; padding: 0; }\\n #kiueaqtgjh .gt_table { display: table; border-collapse: collapse; line-height: normal; margin-left: auto; margin-right: auto; color: #333333; font-size: 16px; font-weight: normal; font-style: normal; background-color: #FFFFFF; width: auto; border-top-style: solid; border-top-width: 2px; border-top-color: #A8A8A8; border-right-style: none; border-right-width: 2px; border-right-color: #D3D3D3; border-bottom-style: solid; border-bottom-width: 2px; border-bottom-color: #A8A8A8; border-left-style: none; border-left-width: 2px; border-left-color: #D3D3D3; }\\n #kiueaqtgjh .gt_caption { padding-top: 4px; padding-bottom: 4px; }\\n #kiueaqtgjh .gt_title { color: #333333; font-size: 125%; font-weight: initial; padding-top: 4px; padding-bottom: 4px; padding-left: 5px; padding-right: 5px; border-bottom-color: #FFFFFF; border-bottom-width: 0; }\\n #kiueaqtgjh .gt_subtitle { color: #333333; font-size: 85%; font-weight: initial; padding-top: 3px; padding-bottom: 5px; padding-left: 5px; padding-right: 5px; border-top-color: #FFFFFF; border-top-width: 0; }\\n #kiueaqtgjh .gt_heading { background-color: #FFFFFF; text-align: center; border-bottom-color: #FFFFFF; border-left-style: none; border-left-width: 1px; border-left-color: #D3D3D3; border-right-style: none; border-right-width: 1px; border-right-color: #D3D3D3; }\\n #kiueaqtgjh .gt_bottom_border { border-bottom-style: solid; border-bottom-width: 2px; border-bottom-color: #D3D3D3; }\\n #kiueaqtgjh .gt_col_headings { border-top-style: solid; border-top-width: 2px; border-top-color: #D3D3D3; border-bottom-style: solid; border-bottom-width: 2px; border-bottom-color: #D3D3D3; border-left-style: none; border-left-width: 1px; border-left-color: #D3D3D3; border-right-style: none; border-right-width: 1px; border-right-color: #D3D3D3; }\\n #kiueaqtgjh .gt_col_heading { color: #333333; background-color: #FFFFFF; font-size: 100%; font-weight: normal; text-transform: inherit; border-left-style: none; border-left-width: 1px; border-left-color: #D3D3D3; border-right-style: none; border-right-width: 1px; border-right-color: #D3D3D3; vertical-align: bottom; padding-top: 5px; padding-bottom: 5px; padding-left: 5px; padding-right: 5px; overflow-x: hidden; }\\n #kiueaqtgjh .gt_column_spanner_outer { color: #333333; background-color: #FFFFFF; font-size: 100%; font-weight: normal; text-transform: inherit; padding-top: 0; padding-bottom: 0; padding-left: 4px; padding-right: 4px; }\\n #kiueaqtgjh .gt_column_spanner_outer:first-child { padding-left: 0; }\\n #kiueaqtgjh .gt_column_spanner_outer:last-child { padding-right: 0; }\\n #kiueaqtgjh .gt_column_spanner { border-bottom-style: solid; border-bottom-width: 2px; border-bottom-color: #D3D3D3; vertical-align: bottom; padding-top: 5px; padding-bottom: 5px; overflow-x: hidden; display: inline-block; width: 100%; }\\n #kiueaqtgjh .gt_spanner_row { border-bottom-style: hidden; }\\n #kiueaqtgjh .gt_group_heading { padding-top: 8px; padding-bottom: 8px; padding-left: 5px; padding-right: 5px; color: #333333; background-color: #FFFFFF; font-size: 100%; font-weight: initial; text-transform: inherit; border-top-style: solid; border-top-width: 2px; border-top-color: #D3D3D3; border-bottom-style: solid; border-bottom-width: 2px; border-bottom-color: #D3D3D3; border-left-style: none; border-left-width: 1px; border-left-color: #D3D3D3; border-right-style: none; border-right-width: 1px; border-right-color: #D3D3D3; vertical-align: middle; text-align: left; }\\n #kiueaqtgjh .gt_empty_group_heading { padding: 0.5px; color: #333333; background-color: #FFFFFF; font-size: 100%; font-weight: initial; border-top-style: solid; border-top-width: 2px; border-top-color: #D3D3D3; border-bottom-style: solid; border-bottom-width: 2px; border-bottom-color: #D3D3D3; vertical-align: middle; }\\n #kiueaqtgjh .gt_from_md> :first-child { margin-top: 0; }\\n #kiueaqtgjh .gt_from_md> :last-child { margin-bottom: 0; }\\n #kiueaqtgjh .gt_row { padding-top: 8px; padding-bottom: 8px; padding-left: 5px; padding-right: 5px; margin: 10px; border-top-style: solid; border-top-width: 1px; border-top-color: #D3D3D3; border-left-style: none; border-left-width: 1px; border-left-color: #D3D3D3; border-right-style: none; border-right-width: 1px; border-right-color: #D3D3D3; vertical-align: middle; overflow-x: hidden; }\\n #kiueaqtgjh .gt_stub { color: #333333; background-color: #FFFFFF; font-size: 100%; font-weight: initial; text-transform: inherit; border-right-style: solid; border-right-width: 2px; border-right-color: #D3D3D3; padding-left: 5px; padding-right: 5px; }\\n #kiueaqtgjh .gt_stub_row_group { color: #333333; background-color: #FFFFFF; font-size: 100%; font-weight: initial; text-transform: inherit; border-right-style: solid; border-right-width: 2px; border-right-color: #D3D3D3; padding-left: 5px; padding-right: 5px; vertical-align: top; }\\n #kiueaqtgjh .gt_row_group_first td { border-top-width: 2px; }\\n #kiueaqtgjh .gt_row_group_first th { border-top-width: 2px; }\\n #kiueaqtgjh .gt_striped { background-color: rgba(128,128,128,0.05); }\\n #kiueaqtgjh .gt_table_body { border-top-style: solid; border-top-width: 2px; border-top-color: #D3D3D3; border-bottom-style: solid; border-bottom-width: 2px; border-bottom-color: #D3D3D3; }\\n #kiueaqtgjh .gt_sourcenotes { color: #333333; background-color: #FFFFFF; border-bottom-style: none; border-bottom-width: 2px; border-bottom-color: #D3D3D3; border-left-style: none; border-left-width: 2px; border-left-color: #D3D3D3; border-right-style: none; border-right-width: 2px; border-right-color: #D3D3D3; }\\n #kiueaqtgjh .gt_sourcenote { font-size: 90%; padding-top: 4px; padding-bottom: 4px; padding-left: 5px; padding-right: 5px; text-align: left; }\\n #kiueaqtgjh .gt_left { text-align: left; }\\n #kiueaqtgjh .gt_center { text-align: center; }\\n #kiueaqtgjh .gt_right { text-align: right; font-variant-numeric: tabular-nums; }\\n #kiueaqtgjh .gt_font_normal { font-weight: normal; }\\n #kiueaqtgjh .gt_font_bold { font-weight: bold; }\\n #kiueaqtgjh .gt_font_italic { font-style: italic; }\\n #kiueaqtgjh .gt_super { font-size: 65%; }\\n #kiueaqtgjh .gt_footnote_marks { font-size: 75%; vertical-align: 0.4em; position: initial; }\\n #kiueaqtgjh .gt_asterisk { font-size: 100%; vertical-align: 0; }\\n \\n</style>\\n<table class=\"gt_table\" data-quarto-disable-processing=\"false\" data-quarto-bootstrap=\"false\">\\n<thead>\\n\\n  <tr class=\"gt_heading\">\\n    <td colspan=\"3\" class=\"gt_heading gt_title gt_font_normal\">Tidal Constituents</td>\\n  </tr>\\n<tr class=\"gt_col_headings\">\\n  <th class=\"gt_col_heading gt_columns_bottom_border gt_left\" rowspan=\"1\" colspan=\"1\" scope=\"col\" id=\"name\">name</th>\\n  <th class=\"gt_col_heading gt_columns_bottom_border gt_right\" rowspan=\"1\" colspan=\"1\" scope=\"col\" id=\"Frequency&lt;br&gt;h&lt;sup&gt;-1&lt;/sup&gt;\">Frequency<br>h<sup>-1</sup></th>\\n  <th class=\"gt_col_heading gt_columns_bottom_border gt_right\" rowspan=\"1\" colspan=\"1\" scope=\"col\" id=\"Period&lt;br&gt;(h)\">Period<br>(h)</th>\\n</tr>\\n</thead>\\n<tbody class=\"gt_table_body\">\\n  <tr>\\n    <td class=\"gt_row gt_left\">MM</td>\\n    <td class=\"gt_row gt_right\">1.51 × 10<sup style=\\'font-size: 65%;\\'>−3</sup></td>\\n    <td class=\"gt_row gt_right\">661.3</td>\\n  </tr>\\n  <tr>\\n    <td class=\"gt_row gt_left\">MF</td>\\n    <td class=\"gt_row gt_right\">3.05 × 10<sup style=\\'font-size: 65%;\\'>−3</sup></td>\\n    <td class=\"gt_row gt_right\">327.9</td>\\n  </tr>\\n  <tr>\\n    <td class=\"gt_row gt_left\">Q1</td>\\n    <td class=\"gt_row gt_right\">3.72 × 10<sup style=\\'font-size: 65%;\\'>−2</sup></td>\\n    <td class=\"gt_row gt_right\">26.9</td>\\n  </tr>\\n  <tr>\\n    <td class=\"gt_row gt_left\">O1</td>\\n    <td class=\"gt_row gt_right\">3.87 × 10<sup style=\\'font-size: 65%;\\'>−2</sup></td>\\n    <td class=\"gt_row gt_right\">25.8</td>\\n  </tr>\\n  <tr>\\n    <td class=\"gt_row gt_left\">P1</td>\\n    <td class=\"gt_row gt_right\">4.16 × 10<sup style=\\'font-size: 65%;\\'>−2</sup></td>\\n    <td class=\"gt_row gt_right\">24.1</td>\\n  </tr>\\n  <tr>\\n    <td class=\"gt_row gt_left\">K1</td>\\n    <td class=\"gt_row gt_right\">4.18 × 10<sup style=\\'font-size: 65%;\\'>−2</sup></td>\\n    <td class=\"gt_row gt_right\">23.9</td>\\n  </tr>\\n  <tr>\\n    <td class=\"gt_row gt_left\">N2</td>\\n    <td class=\"gt_row gt_right\">7.90 × 10<sup style=\\'font-size: 65%;\\'>−2</sup></td>\\n    <td class=\"gt_row gt_right\">12.7</td>\\n  </tr>\\n  <tr>\\n    <td class=\"gt_row gt_left\">M2</td>\\n    <td class=\"gt_row gt_right\">8.05 × 10<sup style=\\'font-size: 65%;\\'>−2</sup></td>\\n    <td class=\"gt_row gt_right\">12.4</td>\\n  </tr>\\n  <tr>\\n    <td class=\"gt_row gt_left\">S2</td>\\n    <td class=\"gt_row gt_right\">8.33 × 10<sup style=\\'font-size: 65%;\\'>−2</sup></td>\\n    <td class=\"gt_row gt_right\">12.0</td>\\n  </tr>\\n  <tr>\\n    <td class=\"gt_row gt_left\">K2</td>\\n    <td class=\"gt_row gt_right\">8.36 × 10<sup style=\\'font-size: 65%;\\'>−2</sup></td>\\n    <td class=\"gt_row gt_right\">12.0</td>\\n  </tr>\\n  <tr>\\n    <td class=\"gt_row gt_left\">MN4</td>\\n    <td class=\"gt_row gt_right\">1.60 × 10<sup style=\\'font-size: 65%;\\'>−1</sup></td>\\n    <td class=\"gt_row gt_right\">6.3</td>\\n  </tr>\\n  <tr>\\n    <td class=\"gt_row gt_left\">M4</td>\\n    <td class=\"gt_row gt_right\">1.61 × 10<sup style=\\'font-size: 65%;\\'>−1</sup></td>\\n    <td class=\"gt_row gt_right\">6.2</td>\\n  </tr>\\n  <tr>\\n    <td class=\"gt_row gt_left\">MS4</td>\\n    <td class=\"gt_row gt_right\">1.64 × 10<sup style=\\'font-size: 65%;\\'>−1</sup></td>\\n    <td class=\"gt_row gt_right\">6.1</td>\\n  </tr>\\n</tbody>\\n\\n\\n</table>\\n\\n</div>\\n        '"
      ]
     },
     "execution_count": 67,
     "metadata": {},
     "output_type": "execute_result"
    }
   ],
   "source": [
    "from great_tables import GT, html\n",
    "\n",
    "(\n",
    "    GT(consts)\n",
    "    .tab_header(\"Tidal Constituents\")\n",
    "    .fmt_number(\"period_h\", decimals=1)\n",
    "    .fmt_scientific(\"freq_cph\")\n",
    "    .cols_label(\n",
    "        freq_cph=html(\"Frequency<br>h<sup>-1</sup>\"), period_h=html(\"Period<br>(h)\")\n",
    "    )\n",
    ").as_raw_html()"
   ]
  },
  {
   "cell_type": "code",
   "execution_count": 17,
   "metadata": {},
   "outputs": [
    {
     "data": {
      "text/plain": [
       "13"
      ]
     },
     "execution_count": 17,
     "metadata": {},
     "output_type": "execute_result"
    }
   ],
   "source": [
    "import xarray as xr\n",
    "\n",
    "ds = xr.open_dataset(\n",
    "    \"../data/constituents_2min/GlobalTideElevation_DTU-TPXO8_2min_v1_UpperCase.nc\"\n",
    ")\n",
    "global_consts = set([v.split(\"_\")[0] for v in ds.data_vars])\n",
    "len(global_consts)"
   ]
  },
  {
   "cell_type": "code",
   "execution_count": 3,
   "metadata": {},
   "outputs": [],
   "source": [
    "utide_consts = set(ut_constants[\"const\"][\"name\"])"
   ]
  },
  {
   "cell_type": "code",
   "execution_count": 4,
   "metadata": {},
   "outputs": [
    {
     "data": {
      "text/plain": [
       "True"
      ]
     },
     "execution_count": 4,
     "metadata": {},
     "output_type": "execute_result"
    }
   ],
   "source": [
    "global_consts.issubset(utide_consts)"
   ]
  },
  {
   "cell_type": "code",
   "execution_count": 18,
   "metadata": {},
   "outputs": [
    {
     "data": {
      "text/plain": [
       "['Q1',\n",
       " 'MF',\n",
       " 'P1',\n",
       " 'K1',\n",
       " 'MM',\n",
       " 'O1',\n",
       " 'M2',\n",
       " 'S2',\n",
       " 'M4',\n",
       " 'MN4',\n",
       " 'MS4',\n",
       " 'N2',\n",
       " 'K2']"
      ]
     },
     "execution_count": 18,
     "metadata": {},
     "output_type": "execute_result"
    }
   ],
   "source": [
    "list(global_consts)"
   ]
  },
  {
   "cell_type": "code",
   "execution_count": 5,
   "metadata": {},
   "outputs": [
    {
     "data": {
      "text/plain": [
       "set()"
      ]
     },
     "execution_count": 5,
     "metadata": {},
     "output_type": "execute_result"
    }
   ],
   "source": [
    "global_consts - utide_consts"
   ]
  },
  {
   "cell_type": "code",
   "execution_count": 28,
   "metadata": {},
   "outputs": [],
   "source": [
    "import numpy as np\n",
    "\n",
    "coef = {\n",
    "    # some names of consituents, used for subselection\n",
    "    \"name\": [\n",
    "        \"K1\",\n",
    "        \"K2\",\n",
    "        \"M2\",\n",
    "        \"M4\",\n",
    "        \"MF\",\n",
    "        \"MM\",\n",
    "        \"MN4\",\n",
    "        \"MS4\",\n",
    "        \"N2\",\n",
    "    ],  # 'O1', 'P1', 'Q1', 'S2'],\n",
    "    \"mean\": 0.0,\n",
    "    # amplitudes\n",
    "    \"A\": np.array(\n",
    "        [\n",
    "            1.00227454,\n",
    "            0.02250278,\n",
    "            0.01775812,\n",
    "            0.01605451,\n",
    "            0.01220086,\n",
    "            0.00751468,\n",
    "            0.00708371,\n",
    "            0.00577484,\n",
    "            0.00313313,\n",
    "        ]\n",
    "    ),\n",
    "    # phases\n",
    "    \"g\": np.array(\n",
    "        [\n",
    "            139.03197411,\n",
    "            144.78007052,\n",
    "            117.14151752,\n",
    "            104.1430418,\n",
    "            216.82454621,\n",
    "            4.40876086,\n",
    "            240.44658427,\n",
    "            50.66603851,\n",
    "            144.04531879,\n",
    "        ]\n",
    "    ),\n",
    "    \"aux\": {\n",
    "        \"opt\": {\n",
    "            \"twodim\": False,\n",
    "            \"nodiagn\": True,\n",
    "            \"nodsatlint\": 0,\n",
    "            \"nodsatnone\": True,\n",
    "            \"gwchlint\": False,\n",
    "            \"gwchnone\": False,\n",
    "            \"prefilt\": np.array([]),\n",
    "            \"notrend\": True,\n",
    "        },\n",
    "        # reference time in days\n",
    "        \"reftime\": 737429.1458333333,\n",
    "        # frequencies in cycles per hour\n",
    "        \"frq\": np.array(\n",
    "            [\n",
    "                0.0805114,  # M2\n",
    "                0.04178075,  # ?\n",
    "                0.3220456,\n",
    "                0.20280355,\n",
    "                0.1207671,\n",
    "                0.28331495,\n",
    "                0.1610228,\n",
    "                0.2415342,\n",
    "                0.20844741,\n",
    "            ]\n",
    "        ),\n",
    "        # latitude\n",
    "        \"lat\": -42.5,\n",
    "        # list indices of constituents in ut_constants.mat (nc x 1)\n",
    "        \"lind\": np.array([47, 20, 124, 95, 68, 119, 81, 105, 98]),\n",
    "    },\n",
    "}"
   ]
  },
  {
   "cell_type": "code",
   "execution_count": 29,
   "metadata": {},
   "outputs": [
    {
     "ename": "TypeError",
     "evalue": "list indices must be integers or slices, not list",
     "output_type": "error",
     "traceback": [
      "\u001b[0;31m---------------------------------------------------------------------------\u001b[0m",
      "\u001b[0;31mTypeError\u001b[0m                                 Traceback (most recent call last)",
      "Cell \u001b[0;32mIn[29], line 6\u001b[0m\n\u001b[1;32m      2\u001b[0m \u001b[38;5;28;01mimport\u001b[39;00m \u001b[38;5;21;01mpandas\u001b[39;00m \u001b[38;5;28;01mas\u001b[39;00m \u001b[38;5;21;01mpd\u001b[39;00m\n\u001b[1;32m      4\u001b[0m t \u001b[38;5;241m=\u001b[39m pd\u001b[38;5;241m.\u001b[39mdate_range(\u001b[38;5;124m\"\u001b[39m\u001b[38;5;124m2000\u001b[39m\u001b[38;5;124m\"\u001b[39m, periods\u001b[38;5;241m=\u001b[39m\u001b[38;5;241m10\u001b[39m, freq\u001b[38;5;241m=\u001b[39m\u001b[38;5;124m\"\u001b[39m\u001b[38;5;124mh\u001b[39m\u001b[38;5;124m\"\u001b[39m)\n\u001b[0;32m----> 6\u001b[0m tide \u001b[38;5;241m=\u001b[39m \u001b[43mreconstruct\u001b[49m\u001b[43m(\u001b[49m\u001b[43mt\u001b[49m\u001b[43m,\u001b[49m\u001b[43m \u001b[49m\u001b[43mcoef\u001b[49m\u001b[43m,\u001b[49m\u001b[43m \u001b[49m\u001b[43mconstit\u001b[49m\u001b[38;5;241;43m=\u001b[39;49m\u001b[43mglobal_consts\u001b[49m\u001b[43m)\u001b[49m\n",
      "File \u001b[0;32m~/src/tidepredictor/.venv/lib/python3.11/site-packages/utide/_reconstruct.py:76\u001b[0m, in \u001b[0;36mreconstruct\u001b[0;34m(t, coef, epoch, verbose, constit, min_SNR, min_PE)\u001b[0m\n\u001b[1;32m     73\u001b[0m goodmask \u001b[38;5;241m=\u001b[39m \u001b[38;5;241m~\u001b[39mnp\u001b[38;5;241m.\u001b[39mma\u001b[38;5;241m.\u001b[39mgetmaskarray(t)\n\u001b[1;32m     74\u001b[0m t \u001b[38;5;241m=\u001b[39m t\u001b[38;5;241m.\u001b[39mcompressed()\n\u001b[0;32m---> 76\u001b[0m u, v \u001b[38;5;241m=\u001b[39m \u001b[43m_reconstruct\u001b[49m\u001b[43m(\u001b[49m\n\u001b[1;32m     77\u001b[0m \u001b[43m    \u001b[49m\u001b[43mt\u001b[49m\u001b[43m,\u001b[49m\n\u001b[1;32m     78\u001b[0m \u001b[43m    \u001b[49m\u001b[43mgoodmask\u001b[49m\u001b[43m,\u001b[49m\n\u001b[1;32m     79\u001b[0m \u001b[43m    \u001b[49m\u001b[43mcoef\u001b[49m\u001b[43m,\u001b[49m\n\u001b[1;32m     80\u001b[0m \u001b[43m    \u001b[49m\u001b[43mverbose\u001b[49m\u001b[38;5;241;43m=\u001b[39;49m\u001b[43mverbose\u001b[49m\u001b[43m,\u001b[49m\n\u001b[1;32m     81\u001b[0m \u001b[43m    \u001b[49m\u001b[43mconstit\u001b[49m\u001b[38;5;241;43m=\u001b[39;49m\u001b[43mconstit\u001b[49m\u001b[43m,\u001b[49m\n\u001b[1;32m     82\u001b[0m \u001b[43m    \u001b[49m\u001b[43mmin_SNR\u001b[49m\u001b[38;5;241;43m=\u001b[39;49m\u001b[43mmin_SNR\u001b[49m\u001b[43m,\u001b[49m\n\u001b[1;32m     83\u001b[0m \u001b[43m    \u001b[49m\u001b[43mmin_PE\u001b[49m\u001b[38;5;241;43m=\u001b[39;49m\u001b[43mmin_PE\u001b[49m\u001b[43m,\u001b[49m\n\u001b[1;32m     84\u001b[0m \u001b[43m\u001b[49m\u001b[43m)\u001b[49m\n\u001b[1;32m     86\u001b[0m \u001b[38;5;28;01mif\u001b[39;00m v \u001b[38;5;129;01mis\u001b[39;00m \u001b[38;5;129;01mnot\u001b[39;00m \u001b[38;5;28;01mNone\u001b[39;00m:\n\u001b[1;32m     87\u001b[0m     out\u001b[38;5;241m.\u001b[39mu, out\u001b[38;5;241m.\u001b[39mv \u001b[38;5;241m=\u001b[39m u, v\n",
      "File \u001b[0;32m~/src/tidepredictor/.venv/lib/python3.11/site-packages/utide/_reconstruct.py:126\u001b[0m, in \u001b[0;36m_reconstruct\u001b[0;34m(t, goodmask, coef, verbose, constit, min_SNR, min_PE)\u001b[0m\n\u001b[1;32m    121\u001b[0m     am \u001b[38;5;241m=\u001b[39m \u001b[38;5;241m0.5\u001b[39m \u001b[38;5;241m*\u001b[39m (\n\u001b[1;32m    122\u001b[0m         (coef[\u001b[38;5;124m\"\u001b[39m\u001b[38;5;124mLsmaj\u001b[39m\u001b[38;5;124m\"\u001b[39m][ind] \u001b[38;5;241m-\u001b[39m coef[\u001b[38;5;124m\"\u001b[39m\u001b[38;5;124mLsmin\u001b[39m\u001b[38;5;124m\"\u001b[39m][ind])\n\u001b[1;32m    123\u001b[0m         \u001b[38;5;241m*\u001b[39m np\u001b[38;5;241m.\u001b[39mexp(\u001b[38;5;241m1\u001b[39mj \u001b[38;5;241m*\u001b[39m (coef[\u001b[38;5;124m\"\u001b[39m\u001b[38;5;124mtheta\u001b[39m\u001b[38;5;124m\"\u001b[39m][ind] \u001b[38;5;241m+\u001b[39m coef[\u001b[38;5;124m\"\u001b[39m\u001b[38;5;124mg\u001b[39m\u001b[38;5;124m\"\u001b[39m][ind]) \u001b[38;5;241m*\u001b[39m rpd)\n\u001b[1;32m    124\u001b[0m     )\n\u001b[1;32m    125\u001b[0m \u001b[38;5;28;01melse\u001b[39;00m:\n\u001b[0;32m--> 126\u001b[0m     ap \u001b[38;5;241m=\u001b[39m \u001b[38;5;241m0.5\u001b[39m \u001b[38;5;241m*\u001b[39m \u001b[43mcoef\u001b[49m\u001b[43m[\u001b[49m\u001b[38;5;124;43m\"\u001b[39;49m\u001b[38;5;124;43mA\u001b[39;49m\u001b[38;5;124;43m\"\u001b[39;49m\u001b[43m]\u001b[49m\u001b[43m[\u001b[49m\u001b[43mind\u001b[49m\u001b[43m]\u001b[49m \u001b[38;5;241m*\u001b[39m np\u001b[38;5;241m.\u001b[39mexp(\u001b[38;5;241m-\u001b[39m\u001b[38;5;241m1\u001b[39mj \u001b[38;5;241m*\u001b[39m coef[\u001b[38;5;124m\"\u001b[39m\u001b[38;5;124mg\u001b[39m\u001b[38;5;124m\"\u001b[39m][ind] \u001b[38;5;241m*\u001b[39m rpd)\n\u001b[1;32m    127\u001b[0m     am \u001b[38;5;241m=\u001b[39m np\u001b[38;5;241m.\u001b[39mconj(ap)\n\u001b[1;32m    129\u001b[0m ngflgs \u001b[38;5;241m=\u001b[39m [\n\u001b[1;32m    130\u001b[0m     coef[\u001b[38;5;124m\"\u001b[39m\u001b[38;5;124maux\u001b[39m\u001b[38;5;124m\"\u001b[39m][\u001b[38;5;124m\"\u001b[39m\u001b[38;5;124mopt\u001b[39m\u001b[38;5;124m\"\u001b[39m][\u001b[38;5;124m\"\u001b[39m\u001b[38;5;124mnodsatlint\u001b[39m\u001b[38;5;124m\"\u001b[39m],\n\u001b[1;32m    131\u001b[0m     coef[\u001b[38;5;124m\"\u001b[39m\u001b[38;5;124maux\u001b[39m\u001b[38;5;124m\"\u001b[39m][\u001b[38;5;124m\"\u001b[39m\u001b[38;5;124mopt\u001b[39m\u001b[38;5;124m\"\u001b[39m][\u001b[38;5;124m\"\u001b[39m\u001b[38;5;124mnodsatnone\u001b[39m\u001b[38;5;124m\"\u001b[39m],\n\u001b[1;32m    132\u001b[0m     coef[\u001b[38;5;124m\"\u001b[39m\u001b[38;5;124maux\u001b[39m\u001b[38;5;124m\"\u001b[39m][\u001b[38;5;124m\"\u001b[39m\u001b[38;5;124mopt\u001b[39m\u001b[38;5;124m\"\u001b[39m][\u001b[38;5;124m\"\u001b[39m\u001b[38;5;124mgwchlint\u001b[39m\u001b[38;5;124m\"\u001b[39m],\n\u001b[1;32m    133\u001b[0m     coef[\u001b[38;5;124m\"\u001b[39m\u001b[38;5;124maux\u001b[39m\u001b[38;5;124m\"\u001b[39m][\u001b[38;5;124m\"\u001b[39m\u001b[38;5;124mopt\u001b[39m\u001b[38;5;124m\"\u001b[39m][\u001b[38;5;124m\"\u001b[39m\u001b[38;5;124mgwchnone\u001b[39m\u001b[38;5;124m\"\u001b[39m],\n\u001b[1;32m    134\u001b[0m ]\n",
      "\u001b[0;31mTypeError\u001b[0m: list indices must be integers or slices, not list"
     ]
    }
   ],
   "source": [
    "from utide import reconstruct\n",
    "import pandas as pd\n",
    "\n",
    "t = pd.date_range(\"2000\", periods=10, freq=\"h\")\n",
    "\n",
    "tide = reconstruct(t, coef, constit=global_consts)"
   ]
  },
  {
   "cell_type": "code",
   "execution_count": 11,
   "metadata": {},
   "outputs": [
    {
     "data": {
      "text/plain": [
       "[<matplotlib.lines.Line2D at 0x7fa37ceb4c10>]"
      ]
     },
     "execution_count": 11,
     "metadata": {},
     "output_type": "execute_result"
    },
    {
     "data": {
      "image/png": "[encoded data removed]",
      "text/plain": [
       "<Figure size 640x480 with 1 Axes>"
      ]
     },
     "metadata": {},
     "output_type": "display_data"
    }
   ],
   "source": [
    "import matplotlib.pyplot as plt\n",
    "\n",
    "plt.plot(tide[\"t_in\"], tide[\"h\"])"
   ]
  },
  {
   "cell_type": "code",
   "execution_count": null,
   "metadata": {},
   "outputs": [],
   "source": []
  }
 ],
 "metadata": {
  "kernelspec": {
   "display_name": ".venv",
   "language": "python",
   "name": "python3"
  },
  "language_info": {
   "codemirror_mode": {
    "name": "ipython",
    "version": 3
   },
   "file_extension": ".py",
   "mimetype": "text/x-python",
   "name": "python",
   "nbconvert_exporter": "python",
   "pygments_lexer": "ipython3",
   "version": "3.11.10"
  }
 },
 "nbformat": 4,
 "nbformat_minor": 2
}
